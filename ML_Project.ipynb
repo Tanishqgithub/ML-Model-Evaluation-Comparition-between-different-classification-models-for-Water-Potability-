{
  "cells": [
    {
      "cell_type": "markdown",
      "id": "b9e1739c",
      "metadata": {
        "papermill": {
          "duration": 0.023214,
          "end_time": "2024-02-27T19:45:18.448526",
          "exception": false,
          "start_time": "2024-02-27T19:45:18.425312",
          "status": "completed"
        },
        "tags": [],
        "id": "b9e1739c"
      },
      "source": [
        "### IMPORT_LIBRARY\n",
        "Import the required libraries"
      ]
    },
    {
      "cell_type": "code",
      "execution_count": 47,
      "id": "92cd261c",
      "metadata": {
        "execution": {
          "iopub.execute_input": "2024-02-27T19:45:18.492357Z",
          "iopub.status.busy": "2024-02-27T19:45:18.491609Z",
          "iopub.status.idle": "2024-02-27T19:45:21.915422Z",
          "shell.execute_reply": "2024-02-27T19:45:21.914065Z"
        },
        "papermill": {
          "duration": 3.449223,
          "end_time": "2024-02-27T19:45:21.918559",
          "exception": false,
          "start_time": "2024-02-27T19:45:18.469336",
          "status": "completed"
        },
        "tags": [],
        "id": "92cd261c"
      },
      "outputs": [],
      "source": [
        "import numpy as np\n",
        "import pandas as pd\n",
        "import matplotlib.pyplot as plt\n",
        "import seaborn as sns\n",
        "import plotly.express as px\n",
        "from plotly.offline import iplot , plot\n",
        "from plotly.subplots import make_subplots"
      ]
    },
    {
      "cell_type": "markdown",
      "id": "42823ec7",
      "metadata": {
        "papermill": {
          "duration": 0.021388,
          "end_time": "2024-02-27T19:45:21.960988",
          "exception": false,
          "start_time": "2024-02-27T19:45:21.939600",
          "status": "completed"
        },
        "tags": [],
        "id": "42823ec7"
      },
      "source": [
        "### LOAD_DATASET\n",
        "Loading the dataset"
      ]
    },
    {
      "cell_type": "code",
      "execution_count": 48,
      "id": "bbe199b6",
      "metadata": {
        "execution": {
          "iopub.execute_input": "2024-02-27T19:45:22.005921Z",
          "iopub.status.busy": "2024-02-27T19:45:22.004887Z",
          "iopub.status.idle": "2024-02-27T19:45:22.059097Z",
          "shell.execute_reply": "2024-02-27T19:45:22.058173Z"
        },
        "papermill": {
          "duration": 0.080324,
          "end_time": "2024-02-27T19:45:22.061713",
          "exception": false,
          "start_time": "2024-02-27T19:45:21.981389",
          "status": "completed"
        },
        "tags": [],
        "id": "bbe199b6"
      },
      "outputs": [],
      "source": [
        "df =pd.read_csv(\"water_potability.csv\")"
      ]
    },
    {
      "cell_type": "markdown",
      "id": "e37e917f",
      "metadata": {
        "papermill": {
          "duration": 0.020924,
          "end_time": "2024-02-27T19:45:22.104358",
          "exception": false,
          "start_time": "2024-02-27T19:45:22.083434",
          "status": "completed"
        },
        "tags": [],
        "id": "e37e917f"
      },
      "source": [
        "### DATASET_EXPLORATION\n",
        "We here try to peek into the dataset and understand the dataset"
      ]
    },
    {
      "cell_type": "code",
      "execution_count": 49,
      "id": "751f834c",
      "metadata": {
        "execution": {
          "iopub.execute_input": "2024-02-27T19:45:22.231288Z",
          "iopub.status.busy": "2024-02-27T19:45:22.230846Z",
          "iopub.status.idle": "2024-02-27T19:45:22.254458Z",
          "shell.execute_reply": "2024-02-27T19:45:22.253308Z"
        },
        "papermill": {
          "duration": 0.049806,
          "end_time": "2024-02-27T19:45:22.257305",
          "exception": false,
          "start_time": "2024-02-27T19:45:22.207499",
          "status": "completed"
        },
        "tags": [],
        "colab": {
          "base_uri": "https://localhost:8080/",
          "height": 206
        },
        "id": "751f834c",
        "outputId": "533f16c9-4e9a-414e-e638-0840936221c9"
      },
      "outputs": [
        {
          "output_type": "execute_result",
          "data": {
            "text/plain": [
              "         ph    Hardness        Solids  Chloramines     Sulfate  Conductivity  \\\n",
              "0       NaN  204.890455  20791.318981     7.300212  368.516441    564.308654   \n",
              "1  3.716080  129.422921  18630.057858     6.635246         NaN    592.885359   \n",
              "2  8.099124  224.236259  19909.541732     9.275884         NaN    418.606213   \n",
              "3  8.316766  214.373394  22018.417441     8.059332  356.886136    363.266516   \n",
              "4  9.092223  181.101509  17978.986339     6.546600  310.135738    398.410813   \n",
              "\n",
              "   Organic_carbon  Trihalomethanes  Turbidity  Potability  \n",
              "0       10.379783        86.990970   2.963135           0  \n",
              "1       15.180013        56.329076   4.500656           0  \n",
              "2       16.868637        66.420093   3.055934           0  \n",
              "3       18.436524       100.341674   4.628771           0  \n",
              "4       11.558279        31.997993   4.075075           0  "
            ],
            "text/html": [
              "\n",
              "  <div id=\"df-e0f0892b-82e0-4add-99a5-4b994240e350\" class=\"colab-df-container\">\n",
              "    <div>\n",
              "<style scoped>\n",
              "    .dataframe tbody tr th:only-of-type {\n",
              "        vertical-align: middle;\n",
              "    }\n",
              "\n",
              "    .dataframe tbody tr th {\n",
              "        vertical-align: top;\n",
              "    }\n",
              "\n",
              "    .dataframe thead th {\n",
              "        text-align: right;\n",
              "    }\n",
              "</style>\n",
              "<table border=\"1\" class=\"dataframe\">\n",
              "  <thead>\n",
              "    <tr style=\"text-align: right;\">\n",
              "      <th></th>\n",
              "      <th>ph</th>\n",
              "      <th>Hardness</th>\n",
              "      <th>Solids</th>\n",
              "      <th>Chloramines</th>\n",
              "      <th>Sulfate</th>\n",
              "      <th>Conductivity</th>\n",
              "      <th>Organic_carbon</th>\n",
              "      <th>Trihalomethanes</th>\n",
              "      <th>Turbidity</th>\n",
              "      <th>Potability</th>\n",
              "    </tr>\n",
              "  </thead>\n",
              "  <tbody>\n",
              "    <tr>\n",
              "      <th>0</th>\n",
              "      <td>NaN</td>\n",
              "      <td>204.890455</td>\n",
              "      <td>20791.318981</td>\n",
              "      <td>7.300212</td>\n",
              "      <td>368.516441</td>\n",
              "      <td>564.308654</td>\n",
              "      <td>10.379783</td>\n",
              "      <td>86.990970</td>\n",
              "      <td>2.963135</td>\n",
              "      <td>0</td>\n",
              "    </tr>\n",
              "    <tr>\n",
              "      <th>1</th>\n",
              "      <td>3.716080</td>\n",
              "      <td>129.422921</td>\n",
              "      <td>18630.057858</td>\n",
              "      <td>6.635246</td>\n",
              "      <td>NaN</td>\n",
              "      <td>592.885359</td>\n",
              "      <td>15.180013</td>\n",
              "      <td>56.329076</td>\n",
              "      <td>4.500656</td>\n",
              "      <td>0</td>\n",
              "    </tr>\n",
              "    <tr>\n",
              "      <th>2</th>\n",
              "      <td>8.099124</td>\n",
              "      <td>224.236259</td>\n",
              "      <td>19909.541732</td>\n",
              "      <td>9.275884</td>\n",
              "      <td>NaN</td>\n",
              "      <td>418.606213</td>\n",
              "      <td>16.868637</td>\n",
              "      <td>66.420093</td>\n",
              "      <td>3.055934</td>\n",
              "      <td>0</td>\n",
              "    </tr>\n",
              "    <tr>\n",
              "      <th>3</th>\n",
              "      <td>8.316766</td>\n",
              "      <td>214.373394</td>\n",
              "      <td>22018.417441</td>\n",
              "      <td>8.059332</td>\n",
              "      <td>356.886136</td>\n",
              "      <td>363.266516</td>\n",
              "      <td>18.436524</td>\n",
              "      <td>100.341674</td>\n",
              "      <td>4.628771</td>\n",
              "      <td>0</td>\n",
              "    </tr>\n",
              "    <tr>\n",
              "      <th>4</th>\n",
              "      <td>9.092223</td>\n",
              "      <td>181.101509</td>\n",
              "      <td>17978.986339</td>\n",
              "      <td>6.546600</td>\n",
              "      <td>310.135738</td>\n",
              "      <td>398.410813</td>\n",
              "      <td>11.558279</td>\n",
              "      <td>31.997993</td>\n",
              "      <td>4.075075</td>\n",
              "      <td>0</td>\n",
              "    </tr>\n",
              "  </tbody>\n",
              "</table>\n",
              "</div>\n",
              "    <div class=\"colab-df-buttons\">\n",
              "\n",
              "  <div class=\"colab-df-container\">\n",
              "    <button class=\"colab-df-convert\" onclick=\"convertToInteractive('df-e0f0892b-82e0-4add-99a5-4b994240e350')\"\n",
              "            title=\"Convert this dataframe to an interactive table.\"\n",
              "            style=\"display:none;\">\n",
              "\n",
              "  <svg xmlns=\"http://www.w3.org/2000/svg\" height=\"24px\" viewBox=\"0 -960 960 960\">\n",
              "    <path d=\"M120-120v-720h720v720H120Zm60-500h600v-160H180v160Zm220 220h160v-160H400v160Zm0 220h160v-160H400v160ZM180-400h160v-160H180v160Zm440 0h160v-160H620v160ZM180-180h160v-160H180v160Zm440 0h160v-160H620v160Z\"/>\n",
              "  </svg>\n",
              "    </button>\n",
              "\n",
              "  <style>\n",
              "    .colab-df-container {\n",
              "      display:flex;\n",
              "      gap: 12px;\n",
              "    }\n",
              "\n",
              "    .colab-df-convert {\n",
              "      background-color: #E8F0FE;\n",
              "      border: none;\n",
              "      border-radius: 50%;\n",
              "      cursor: pointer;\n",
              "      display: none;\n",
              "      fill: #1967D2;\n",
              "      height: 32px;\n",
              "      padding: 0 0 0 0;\n",
              "      width: 32px;\n",
              "    }\n",
              "\n",
              "    .colab-df-convert:hover {\n",
              "      background-color: #E2EBFA;\n",
              "      box-shadow: 0px 1px 2px rgba(60, 64, 67, 0.3), 0px 1px 3px 1px rgba(60, 64, 67, 0.15);\n",
              "      fill: #174EA6;\n",
              "    }\n",
              "\n",
              "    .colab-df-buttons div {\n",
              "      margin-bottom: 4px;\n",
              "    }\n",
              "\n",
              "    [theme=dark] .colab-df-convert {\n",
              "      background-color: #3B4455;\n",
              "      fill: #D2E3FC;\n",
              "    }\n",
              "\n",
              "    [theme=dark] .colab-df-convert:hover {\n",
              "      background-color: #434B5C;\n",
              "      box-shadow: 0px 1px 3px 1px rgba(0, 0, 0, 0.15);\n",
              "      filter: drop-shadow(0px 1px 2px rgba(0, 0, 0, 0.3));\n",
              "      fill: #FFFFFF;\n",
              "    }\n",
              "  </style>\n",
              "\n",
              "    <script>\n",
              "      const buttonEl =\n",
              "        document.querySelector('#df-e0f0892b-82e0-4add-99a5-4b994240e350 button.colab-df-convert');\n",
              "      buttonEl.style.display =\n",
              "        google.colab.kernel.accessAllowed ? 'block' : 'none';\n",
              "\n",
              "      async function convertToInteractive(key) {\n",
              "        const element = document.querySelector('#df-e0f0892b-82e0-4add-99a5-4b994240e350');\n",
              "        const dataTable =\n",
              "          await google.colab.kernel.invokeFunction('convertToInteractive',\n",
              "                                                    [key], {});\n",
              "        if (!dataTable) return;\n",
              "\n",
              "        const docLinkHtml = 'Like what you see? Visit the ' +\n",
              "          '<a target=\"_blank\" href=https://colab.research.google.com/notebooks/data_table.ipynb>data table notebook</a>'\n",
              "          + ' to learn more about interactive tables.';\n",
              "        element.innerHTML = '';\n",
              "        dataTable['output_type'] = 'display_data';\n",
              "        await google.colab.output.renderOutput(dataTable, element);\n",
              "        const docLink = document.createElement('div');\n",
              "        docLink.innerHTML = docLinkHtml;\n",
              "        element.appendChild(docLink);\n",
              "      }\n",
              "    </script>\n",
              "  </div>\n",
              "\n",
              "\n",
              "<div id=\"df-03f0d673-d671-46cf-b34d-ceef9bcaf200\">\n",
              "  <button class=\"colab-df-quickchart\" onclick=\"quickchart('df-03f0d673-d671-46cf-b34d-ceef9bcaf200')\"\n",
              "            title=\"Suggest charts\"\n",
              "            style=\"display:none;\">\n",
              "\n",
              "<svg xmlns=\"http://www.w3.org/2000/svg\" height=\"24px\"viewBox=\"0 0 24 24\"\n",
              "     width=\"24px\">\n",
              "    <g>\n",
              "        <path d=\"M19 3H5c-1.1 0-2 .9-2 2v14c0 1.1.9 2 2 2h14c1.1 0 2-.9 2-2V5c0-1.1-.9-2-2-2zM9 17H7v-7h2v7zm4 0h-2V7h2v10zm4 0h-2v-4h2v4z\"/>\n",
              "    </g>\n",
              "</svg>\n",
              "  </button>\n",
              "\n",
              "<style>\n",
              "  .colab-df-quickchart {\n",
              "      --bg-color: #E8F0FE;\n",
              "      --fill-color: #1967D2;\n",
              "      --hover-bg-color: #E2EBFA;\n",
              "      --hover-fill-color: #174EA6;\n",
              "      --disabled-fill-color: #AAA;\n",
              "      --disabled-bg-color: #DDD;\n",
              "  }\n",
              "\n",
              "  [theme=dark] .colab-df-quickchart {\n",
              "      --bg-color: #3B4455;\n",
              "      --fill-color: #D2E3FC;\n",
              "      --hover-bg-color: #434B5C;\n",
              "      --hover-fill-color: #FFFFFF;\n",
              "      --disabled-bg-color: #3B4455;\n",
              "      --disabled-fill-color: #666;\n",
              "  }\n",
              "\n",
              "  .colab-df-quickchart {\n",
              "    background-color: var(--bg-color);\n",
              "    border: none;\n",
              "    border-radius: 50%;\n",
              "    cursor: pointer;\n",
              "    display: none;\n",
              "    fill: var(--fill-color);\n",
              "    height: 32px;\n",
              "    padding: 0;\n",
              "    width: 32px;\n",
              "  }\n",
              "\n",
              "  .colab-df-quickchart:hover {\n",
              "    background-color: var(--hover-bg-color);\n",
              "    box-shadow: 0 1px 2px rgba(60, 64, 67, 0.3), 0 1px 3px 1px rgba(60, 64, 67, 0.15);\n",
              "    fill: var(--button-hover-fill-color);\n",
              "  }\n",
              "\n",
              "  .colab-df-quickchart-complete:disabled,\n",
              "  .colab-df-quickchart-complete:disabled:hover {\n",
              "    background-color: var(--disabled-bg-color);\n",
              "    fill: var(--disabled-fill-color);\n",
              "    box-shadow: none;\n",
              "  }\n",
              "\n",
              "  .colab-df-spinner {\n",
              "    border: 2px solid var(--fill-color);\n",
              "    border-color: transparent;\n",
              "    border-bottom-color: var(--fill-color);\n",
              "    animation:\n",
              "      spin 1s steps(1) infinite;\n",
              "  }\n",
              "\n",
              "  @keyframes spin {\n",
              "    0% {\n",
              "      border-color: transparent;\n",
              "      border-bottom-color: var(--fill-color);\n",
              "      border-left-color: var(--fill-color);\n",
              "    }\n",
              "    20% {\n",
              "      border-color: transparent;\n",
              "      border-left-color: var(--fill-color);\n",
              "      border-top-color: var(--fill-color);\n",
              "    }\n",
              "    30% {\n",
              "      border-color: transparent;\n",
              "      border-left-color: var(--fill-color);\n",
              "      border-top-color: var(--fill-color);\n",
              "      border-right-color: var(--fill-color);\n",
              "    }\n",
              "    40% {\n",
              "      border-color: transparent;\n",
              "      border-right-color: var(--fill-color);\n",
              "      border-top-color: var(--fill-color);\n",
              "    }\n",
              "    60% {\n",
              "      border-color: transparent;\n",
              "      border-right-color: var(--fill-color);\n",
              "    }\n",
              "    80% {\n",
              "      border-color: transparent;\n",
              "      border-right-color: var(--fill-color);\n",
              "      border-bottom-color: var(--fill-color);\n",
              "    }\n",
              "    90% {\n",
              "      border-color: transparent;\n",
              "      border-bottom-color: var(--fill-color);\n",
              "    }\n",
              "  }\n",
              "</style>\n",
              "\n",
              "  <script>\n",
              "    async function quickchart(key) {\n",
              "      const quickchartButtonEl =\n",
              "        document.querySelector('#' + key + ' button');\n",
              "      quickchartButtonEl.disabled = true;  // To prevent multiple clicks.\n",
              "      quickchartButtonEl.classList.add('colab-df-spinner');\n",
              "      try {\n",
              "        const charts = await google.colab.kernel.invokeFunction(\n",
              "            'suggestCharts', [key], {});\n",
              "      } catch (error) {\n",
              "        console.error('Error during call to suggestCharts:', error);\n",
              "      }\n",
              "      quickchartButtonEl.classList.remove('colab-df-spinner');\n",
              "      quickchartButtonEl.classList.add('colab-df-quickchart-complete');\n",
              "    }\n",
              "    (() => {\n",
              "      let quickchartButtonEl =\n",
              "        document.querySelector('#df-03f0d673-d671-46cf-b34d-ceef9bcaf200 button');\n",
              "      quickchartButtonEl.style.display =\n",
              "        google.colab.kernel.accessAllowed ? 'block' : 'none';\n",
              "    })();\n",
              "  </script>\n",
              "</div>\n",
              "\n",
              "    </div>\n",
              "  </div>\n"
            ],
            "application/vnd.google.colaboratory.intrinsic+json": {
              "type": "dataframe",
              "variable_name": "df",
              "summary": "{\n  \"name\": \"df\",\n  \"rows\": 3276,\n  \"fields\": [\n    {\n      \"column\": \"ph\",\n      \"properties\": {\n        \"dtype\": \"number\",\n        \"std\": 1.5943195187088104,\n        \"min\": 0.0,\n        \"max\": 13.999999999999998,\n        \"num_unique_values\": 2785,\n        \"samples\": [\n          6.569053876389385,\n          9.271355446767778,\n          8.92790592593881\n        ],\n        \"semantic_type\": \"\",\n        \"description\": \"\"\n      }\n    },\n    {\n      \"column\": \"Hardness\",\n      \"properties\": {\n        \"dtype\": \"number\",\n        \"std\": 32.879761476294156,\n        \"min\": 47.432,\n        \"max\": 323.124,\n        \"num_unique_values\": 3276,\n        \"samples\": [\n          183.5211070261417,\n          188.9135411469536,\n          224.05887682392927\n        ],\n        \"semantic_type\": \"\",\n        \"description\": \"\"\n      }\n    },\n    {\n      \"column\": \"Solids\",\n      \"properties\": {\n        \"dtype\": \"number\",\n        \"std\": 8768.570827785927,\n        \"min\": 320.942611274359,\n        \"max\": 61227.19600771213,\n        \"num_unique_values\": 3276,\n        \"samples\": [\n          20461.252710219946,\n          32873.820021715685,\n          23264.10996772913\n        ],\n        \"semantic_type\": \"\",\n        \"description\": \"\"\n      }\n    },\n    {\n      \"column\": \"Chloramines\",\n      \"properties\": {\n        \"dtype\": \"number\",\n        \"std\": 1.5830848890397096,\n        \"min\": 0.3520000000000003,\n        \"max\": 13.127000000000002,\n        \"num_unique_values\": 3276,\n        \"samples\": [\n          7.333212177578906,\n          6.791509363412849,\n          5.92236704115349\n        ],\n        \"semantic_type\": \"\",\n        \"description\": \"\"\n      }\n    },\n    {\n      \"column\": \"Sulfate\",\n      \"properties\": {\n        \"dtype\": \"number\",\n        \"std\": 41.416840461672706,\n        \"min\": 129.00000000000003,\n        \"max\": 481.0306423059972,\n        \"num_unique_values\": 2495,\n        \"samples\": [\n          324.64407957923544,\n          370.121384654358,\n          329.12773842254506\n        ],\n        \"semantic_type\": \"\",\n        \"description\": \"\"\n      }\n    },\n    {\n      \"column\": \"Conductivity\",\n      \"properties\": {\n        \"dtype\": \"number\",\n        \"std\": 80.8240640511118,\n        \"min\": 181.483753985146,\n        \"max\": 753.3426195583046,\n        \"num_unique_values\": 3276,\n        \"samples\": [\n          356.3690224100897,\n          336.56150104700754,\n          387.971335796834\n        ],\n        \"semantic_type\": \"\",\n        \"description\": \"\"\n      }\n    },\n    {\n      \"column\": \"Organic_carbon\",\n      \"properties\": {\n        \"dtype\": \"number\",\n        \"std\": 3.308161999126874,\n        \"min\": 2.1999999999999886,\n        \"max\": 28.30000000000001,\n        \"num_unique_values\": 3276,\n        \"samples\": [\n          20.179028868493845,\n          14.706810313722087,\n          13.40673745495127\n        ],\n        \"semantic_type\": \"\",\n        \"description\": \"\"\n      }\n    },\n    {\n      \"column\": \"Trihalomethanes\",\n      \"properties\": {\n        \"dtype\": \"number\",\n        \"std\": 16.175008422218657,\n        \"min\": 0.7379999999999995,\n        \"max\": 124.0,\n        \"num_unique_values\": 3114,\n        \"samples\": [\n          66.163439242252,\n          42.844510851301166,\n          47.06639219544294\n        ],\n        \"semantic_type\": \"\",\n        \"description\": \"\"\n      }\n    },\n    {\n      \"column\": \"Turbidity\",\n      \"properties\": {\n        \"dtype\": \"number\",\n        \"std\": 0.7803824084854124,\n        \"min\": 1.45,\n        \"max\": 6.739,\n        \"num_unique_values\": 3276,\n        \"samples\": [\n          4.886633785371213,\n          4.562197671215202,\n          2.487968647002356\n        ],\n        \"semantic_type\": \"\",\n        \"description\": \"\"\n      }\n    },\n    {\n      \"column\": \"Potability\",\n      \"properties\": {\n        \"dtype\": \"number\",\n        \"std\": 0,\n        \"min\": 0,\n        \"max\": 1,\n        \"num_unique_values\": 2,\n        \"samples\": [\n          1,\n          0\n        ],\n        \"semantic_type\": \"\",\n        \"description\": \"\"\n      }\n    }\n  ]\n}"
            }
          },
          "metadata": {},
          "execution_count": 49
        }
      ],
      "source": [
        "df.head()"
      ]
    },
    {
      "cell_type": "code",
      "execution_count": 50,
      "id": "ca3d4cd3",
      "metadata": {
        "execution": {
          "iopub.execute_input": "2024-02-27T19:45:22.302923Z",
          "iopub.status.busy": "2024-02-27T19:45:22.302506Z",
          "iopub.status.idle": "2024-02-27T19:45:22.310727Z",
          "shell.execute_reply": "2024-02-27T19:45:22.309307Z"
        },
        "papermill": {
          "duration": 0.033974,
          "end_time": "2024-02-27T19:45:22.313149",
          "exception": false,
          "start_time": "2024-02-27T19:45:22.279175",
          "status": "completed"
        },
        "tags": [],
        "colab": {
          "base_uri": "https://localhost:8080/"
        },
        "id": "ca3d4cd3",
        "outputId": "fd4a111b-e381-4781-a317-91fb2c2dff2e"
      },
      "outputs": [
        {
          "output_type": "execute_result",
          "data": {
            "text/plain": [
              "(3276, 10)"
            ]
          },
          "metadata": {},
          "execution_count": 50
        }
      ],
      "source": [
        "df.shape"
      ]
    },
    {
      "cell_type": "code",
      "execution_count": 51,
      "id": "150d946b",
      "metadata": {
        "execution": {
          "iopub.execute_input": "2024-02-27T19:45:22.359322Z",
          "iopub.status.busy": "2024-02-27T19:45:22.358626Z",
          "iopub.status.idle": "2024-02-27T19:45:22.513511Z",
          "shell.execute_reply": "2024-02-27T19:45:22.512174Z"
        },
        "papermill": {
          "duration": 0.181443,
          "end_time": "2024-02-27T19:45:22.516692",
          "exception": false,
          "start_time": "2024-02-27T19:45:22.335249",
          "status": "completed"
        },
        "tags": [],
        "colab": {
          "base_uri": "https://localhost:8080/",
          "height": 363
        },
        "id": "150d946b",
        "outputId": "e118add5-2a2e-4f07-ecda-38b9191c6b9e"
      },
      "outputs": [
        {
          "output_type": "execute_result",
          "data": {
            "text/plain": [
              "<pandas.io.formats.style.Styler at 0x78249a945510>"
            ],
            "text/html": [
              "<style type=\"text/css\">\n",
              "#T_84b56_row0_col0, #T_84b56_row1_col4, #T_84b56_row2_col0, #T_84b56_row3_col0, #T_84b56_row4_col4, #T_84b56_row5_col4, #T_84b56_row6_col0, #T_84b56_row7_col0, #T_84b56_row8_col4, #T_84b56_row9_col0, #T_84b56_row9_col1 {\n",
              "  background-color: #fff7fb;\n",
              "  color: #000000;\n",
              "}\n",
              "#T_84b56_row0_col1 {\n",
              "  background-color: #73a9cf;\n",
              "  color: #f1f1f1;\n",
              "}\n",
              "#T_84b56_row0_col2, #T_84b56_row5_col1 {\n",
              "  background-color: #71a8ce;\n",
              "  color: #f1f1f1;\n",
              "}\n",
              "#T_84b56_row0_col3, #T_84b56_row1_col3, #T_84b56_row2_col3, #T_84b56_row3_col3, #T_84b56_row4_col3, #T_84b56_row5_col3, #T_84b56_row6_col3, #T_84b56_row7_col3, #T_84b56_row8_col3, #T_84b56_row9_col3 {\n",
              "  background-color: #023858;\n",
              "  color: #f1f1f1;\n",
              "}\n",
              "#T_84b56_row0_col4 {\n",
              "  background-color: #eee8f3;\n",
              "  color: #000000;\n",
              "}\n",
              "#T_84b56_row1_col0 {\n",
              "  background-color: #f8f1f8;\n",
              "  color: #000000;\n",
              "}\n",
              "#T_84b56_row1_col1, #T_84b56_row1_col2 {\n",
              "  background-color: #549cc7;\n",
              "  color: #f1f1f1;\n",
              "}\n",
              "#T_84b56_row2_col1 {\n",
              "  background-color: #b3c3de;\n",
              "  color: #000000;\n",
              "}\n",
              "#T_84b56_row2_col2 {\n",
              "  background-color: #acc0dd;\n",
              "  color: #000000;\n",
              "}\n",
              "#T_84b56_row2_col4 {\n",
              "  background-color: #e9e5f1;\n",
              "  color: #000000;\n",
              "}\n",
              "#T_84b56_row3_col1, #T_84b56_row3_col2 {\n",
              "  background-color: #65a3cb;\n",
              "  color: #f1f1f1;\n",
              "}\n",
              "#T_84b56_row3_col4 {\n",
              "  background-color: #f1ebf4;\n",
              "  color: #000000;\n",
              "}\n",
              "#T_84b56_row4_col0 {\n",
              "  background-color: #dbdaeb;\n",
              "  color: #000000;\n",
              "}\n",
              "#T_84b56_row4_col1 {\n",
              "  background-color: #2786bb;\n",
              "  color: #f1f1f1;\n",
              "}\n",
              "#T_84b56_row4_col2 {\n",
              "  background-color: #2685bb;\n",
              "  color: #f1f1f1;\n",
              "}\n",
              "#T_84b56_row5_col0 {\n",
              "  background-color: #e7e3f0;\n",
              "  color: #000000;\n",
              "}\n",
              "#T_84b56_row5_col2 {\n",
              "  background-color: #6da6cd;\n",
              "  color: #f1f1f1;\n",
              "}\n",
              "#T_84b56_row6_col1 {\n",
              "  background-color: #84b0d3;\n",
              "  color: #f1f1f1;\n",
              "}\n",
              "#T_84b56_row6_col2 {\n",
              "  background-color: #83afd3;\n",
              "  color: #f1f1f1;\n",
              "}\n",
              "#T_84b56_row6_col4 {\n",
              "  background-color: #f9f2f8;\n",
              "  color: #000000;\n",
              "}\n",
              "#T_84b56_row7_col1, #T_84b56_row7_col2, #T_84b56_row8_col1, #T_84b56_row8_col2 {\n",
              "  background-color: #63a2cb;\n",
              "  color: #f1f1f1;\n",
              "}\n",
              "#T_84b56_row7_col4 {\n",
              "  background-color: #ece7f2;\n",
              "  color: #000000;\n",
              "}\n",
              "#T_84b56_row8_col0 {\n",
              "  background-color: #eee9f3;\n",
              "  color: #000000;\n",
              "}\n",
              "#T_84b56_row9_col2 {\n",
              "  background-color: #a1bbda;\n",
              "  color: #000000;\n",
              "}\n",
              "#T_84b56_row9_col4 {\n",
              "  background-color: #79abd0;\n",
              "  color: #f1f1f1;\n",
              "}\n",
              "</style>\n",
              "<table id=\"T_84b56\" class=\"dataframe\">\n",
              "  <thead>\n",
              "    <tr>\n",
              "      <th class=\"blank level0\" >&nbsp;</th>\n",
              "      <th id=\"T_84b56_level0_col0\" class=\"col_heading level0 col0\" >min</th>\n",
              "      <th id=\"T_84b56_level0_col1\" class=\"col_heading level0 col1\" >50%</th>\n",
              "      <th id=\"T_84b56_level0_col2\" class=\"col_heading level0 col2\" >mean</th>\n",
              "      <th id=\"T_84b56_level0_col3\" class=\"col_heading level0 col3\" >max</th>\n",
              "      <th id=\"T_84b56_level0_col4\" class=\"col_heading level0 col4\" >std</th>\n",
              "    </tr>\n",
              "  </thead>\n",
              "  <tbody>\n",
              "    <tr>\n",
              "      <th id=\"T_84b56_level0_row0\" class=\"row_heading level0 row0\" >ph</th>\n",
              "      <td id=\"T_84b56_row0_col0\" class=\"data row0 col0\" >0.000000</td>\n",
              "      <td id=\"T_84b56_row0_col1\" class=\"data row0 col1\" >7.036752</td>\n",
              "      <td id=\"T_84b56_row0_col2\" class=\"data row0 col2\" >7.080795</td>\n",
              "      <td id=\"T_84b56_row0_col3\" class=\"data row0 col3\" >14.000000</td>\n",
              "      <td id=\"T_84b56_row0_col4\" class=\"data row0 col4\" >1.594320</td>\n",
              "    </tr>\n",
              "    <tr>\n",
              "      <th id=\"T_84b56_level0_row1\" class=\"row_heading level0 row1\" >Hardness</th>\n",
              "      <td id=\"T_84b56_row1_col0\" class=\"data row1 col0\" >47.432000</td>\n",
              "      <td id=\"T_84b56_row1_col1\" class=\"data row1 col1\" >196.967627</td>\n",
              "      <td id=\"T_84b56_row1_col2\" class=\"data row1 col2\" >196.369496</td>\n",
              "      <td id=\"T_84b56_row1_col3\" class=\"data row1 col3\" >323.124000</td>\n",
              "      <td id=\"T_84b56_row1_col4\" class=\"data row1 col4\" >32.879761</td>\n",
              "    </tr>\n",
              "    <tr>\n",
              "      <th id=\"T_84b56_level0_row2\" class=\"row_heading level0 row2\" >Solids</th>\n",
              "      <td id=\"T_84b56_row2_col0\" class=\"data row2 col0\" >320.942611</td>\n",
              "      <td id=\"T_84b56_row2_col1\" class=\"data row2 col1\" >20927.833607</td>\n",
              "      <td id=\"T_84b56_row2_col2\" class=\"data row2 col2\" >22014.092526</td>\n",
              "      <td id=\"T_84b56_row2_col3\" class=\"data row2 col3\" >61227.196008</td>\n",
              "      <td id=\"T_84b56_row2_col4\" class=\"data row2 col4\" >8768.570828</td>\n",
              "    </tr>\n",
              "    <tr>\n",
              "      <th id=\"T_84b56_level0_row3\" class=\"row_heading level0 row3\" >Chloramines</th>\n",
              "      <td id=\"T_84b56_row3_col0\" class=\"data row3 col0\" >0.352000</td>\n",
              "      <td id=\"T_84b56_row3_col1\" class=\"data row3 col1\" >7.130299</td>\n",
              "      <td id=\"T_84b56_row3_col2\" class=\"data row3 col2\" >7.122277</td>\n",
              "      <td id=\"T_84b56_row3_col3\" class=\"data row3 col3\" >13.127000</td>\n",
              "      <td id=\"T_84b56_row3_col4\" class=\"data row3 col4\" >1.583085</td>\n",
              "    </tr>\n",
              "    <tr>\n",
              "      <th id=\"T_84b56_level0_row4\" class=\"row_heading level0 row4\" >Sulfate</th>\n",
              "      <td id=\"T_84b56_row4_col0\" class=\"data row4 col0\" >129.000000</td>\n",
              "      <td id=\"T_84b56_row4_col1\" class=\"data row4 col1\" >333.073546</td>\n",
              "      <td id=\"T_84b56_row4_col2\" class=\"data row4 col2\" >333.775777</td>\n",
              "      <td id=\"T_84b56_row4_col3\" class=\"data row4 col3\" >481.030642</td>\n",
              "      <td id=\"T_84b56_row4_col4\" class=\"data row4 col4\" >41.416840</td>\n",
              "    </tr>\n",
              "    <tr>\n",
              "      <th id=\"T_84b56_level0_row5\" class=\"row_heading level0 row5\" >Conductivity</th>\n",
              "      <td id=\"T_84b56_row5_col0\" class=\"data row5 col0\" >181.483754</td>\n",
              "      <td id=\"T_84b56_row5_col1\" class=\"data row5 col1\" >421.884968</td>\n",
              "      <td id=\"T_84b56_row5_col2\" class=\"data row5 col2\" >426.205111</td>\n",
              "      <td id=\"T_84b56_row5_col3\" class=\"data row5 col3\" >753.342620</td>\n",
              "      <td id=\"T_84b56_row5_col4\" class=\"data row5 col4\" >80.824064</td>\n",
              "    </tr>\n",
              "    <tr>\n",
              "      <th id=\"T_84b56_level0_row6\" class=\"row_heading level0 row6\" >Organic_carbon</th>\n",
              "      <td id=\"T_84b56_row6_col0\" class=\"data row6 col0\" >2.200000</td>\n",
              "      <td id=\"T_84b56_row6_col1\" class=\"data row6 col1\" >14.218338</td>\n",
              "      <td id=\"T_84b56_row6_col2\" class=\"data row6 col2\" >14.284970</td>\n",
              "      <td id=\"T_84b56_row6_col3\" class=\"data row6 col3\" >28.300000</td>\n",
              "      <td id=\"T_84b56_row6_col4\" class=\"data row6 col4\" >3.308162</td>\n",
              "    </tr>\n",
              "    <tr>\n",
              "      <th id=\"T_84b56_level0_row7\" class=\"row_heading level0 row7\" >Trihalomethanes</th>\n",
              "      <td id=\"T_84b56_row7_col0\" class=\"data row7 col0\" >0.738000</td>\n",
              "      <td id=\"T_84b56_row7_col1\" class=\"data row7 col1\" >66.622485</td>\n",
              "      <td id=\"T_84b56_row7_col2\" class=\"data row7 col2\" >66.396293</td>\n",
              "      <td id=\"T_84b56_row7_col3\" class=\"data row7 col3\" >124.000000</td>\n",
              "      <td id=\"T_84b56_row7_col4\" class=\"data row7 col4\" >16.175008</td>\n",
              "    </tr>\n",
              "    <tr>\n",
              "      <th id=\"T_84b56_level0_row8\" class=\"row_heading level0 row8\" >Turbidity</th>\n",
              "      <td id=\"T_84b56_row8_col0\" class=\"data row8 col0\" >1.450000</td>\n",
              "      <td id=\"T_84b56_row8_col1\" class=\"data row8 col1\" >3.955028</td>\n",
              "      <td id=\"T_84b56_row8_col2\" class=\"data row8 col2\" >3.966786</td>\n",
              "      <td id=\"T_84b56_row8_col3\" class=\"data row8 col3\" >6.739000</td>\n",
              "      <td id=\"T_84b56_row8_col4\" class=\"data row8 col4\" >0.780382</td>\n",
              "    </tr>\n",
              "    <tr>\n",
              "      <th id=\"T_84b56_level0_row9\" class=\"row_heading level0 row9\" >Potability</th>\n",
              "      <td id=\"T_84b56_row9_col0\" class=\"data row9 col0\" >0.000000</td>\n",
              "      <td id=\"T_84b56_row9_col1\" class=\"data row9 col1\" >0.000000</td>\n",
              "      <td id=\"T_84b56_row9_col2\" class=\"data row9 col2\" >0.390110</td>\n",
              "      <td id=\"T_84b56_row9_col3\" class=\"data row9 col3\" >1.000000</td>\n",
              "      <td id=\"T_84b56_row9_col4\" class=\"data row9 col4\" >0.487849</td>\n",
              "    </tr>\n",
              "  </tbody>\n",
              "</table>\n"
            ]
          },
          "metadata": {},
          "execution_count": 51
        }
      ],
      "source": [
        "df.describe().loc[['min', '50%', 'mean', 'max', 'std']].T.style.background_gradient(axis=1)"
      ]
    },
    {
      "cell_type": "code",
      "execution_count": 52,
      "id": "75d5eca1",
      "metadata": {
        "execution": {
          "iopub.execute_input": "2024-02-27T19:45:22.565670Z",
          "iopub.status.busy": "2024-02-27T19:45:22.564007Z",
          "iopub.status.idle": "2024-02-27T19:45:22.572894Z",
          "shell.execute_reply": "2024-02-27T19:45:22.571645Z"
        },
        "papermill": {
          "duration": 0.035874,
          "end_time": "2024-02-27T19:45:22.575449",
          "exception": false,
          "start_time": "2024-02-27T19:45:22.539575",
          "status": "completed"
        },
        "tags": [],
        "colab": {
          "base_uri": "https://localhost:8080/"
        },
        "id": "75d5eca1",
        "outputId": "aa09efa0-509d-44a5-9e5c-f9a38531f59b"
      },
      "outputs": [
        {
          "output_type": "execute_result",
          "data": {
            "text/plain": [
              "Index(['ph', 'Hardness', 'Solids', 'Chloramines', 'Sulfate', 'Conductivity',\n",
              "       'Organic_carbon', 'Trihalomethanes', 'Turbidity', 'Potability'],\n",
              "      dtype='object')"
            ]
          },
          "metadata": {},
          "execution_count": 52
        }
      ],
      "source": [
        "df.columns"
      ]
    },
    {
      "cell_type": "code",
      "source": [
        "df.isna().any()"
      ],
      "metadata": {
        "colab": {
          "base_uri": "https://localhost:8080/"
        },
        "id": "osTIYuPWTemo",
        "outputId": "d025feca-5719-4b57-9e16-0dc40851dd79"
      },
      "id": "osTIYuPWTemo",
      "execution_count": 53,
      "outputs": [
        {
          "output_type": "execute_result",
          "data": {
            "text/plain": [
              "ph                  True\n",
              "Hardness           False\n",
              "Solids             False\n",
              "Chloramines        False\n",
              "Sulfate             True\n",
              "Conductivity       False\n",
              "Organic_carbon     False\n",
              "Trihalomethanes     True\n",
              "Turbidity          False\n",
              "Potability         False\n",
              "dtype: bool"
            ]
          },
          "metadata": {},
          "execution_count": 53
        }
      ]
    },
    {
      "cell_type": "code",
      "execution_count": 8,
      "id": "49fbd23f",
      "metadata": {
        "execution": {
          "iopub.execute_input": "2024-02-27T19:45:22.684645Z",
          "iopub.status.busy": "2024-02-27T19:45:22.683055Z",
          "iopub.status.idle": "2024-02-27T19:45:22.691587Z",
          "shell.execute_reply": "2024-02-27T19:45:22.690525Z"
        },
        "papermill": {
          "duration": 0.035998,
          "end_time": "2024-02-27T19:45:22.694544",
          "exception": false,
          "start_time": "2024-02-27T19:45:22.658546",
          "status": "completed"
        },
        "tags": [],
        "id": "49fbd23f"
      },
      "outputs": [],
      "source": [
        "df.dropna(inplace=True)"
      ]
    },
    {
      "cell_type": "code",
      "execution_count": 9,
      "id": "d641f930",
      "metadata": {
        "execution": {
          "iopub.execute_input": "2024-02-27T19:45:22.743303Z",
          "iopub.status.busy": "2024-02-27T19:45:22.742322Z",
          "iopub.status.idle": "2024-02-27T19:45:22.754005Z",
          "shell.execute_reply": "2024-02-27T19:45:22.752860Z"
        },
        "papermill": {
          "duration": 0.03946,
          "end_time": "2024-02-27T19:45:22.757106",
          "exception": false,
          "start_time": "2024-02-27T19:45:22.717646",
          "status": "completed"
        },
        "tags": [],
        "colab": {
          "base_uri": "https://localhost:8080/"
        },
        "id": "d641f930",
        "outputId": "071d2f6d-1da5-4710-9f9b-19e1c1c10815"
      },
      "outputs": [
        {
          "output_type": "execute_result",
          "data": {
            "text/plain": [
              "ph                 False\n",
              "Hardness           False\n",
              "Solids             False\n",
              "Chloramines        False\n",
              "Sulfate            False\n",
              "Conductivity       False\n",
              "Organic_carbon     False\n",
              "Trihalomethanes    False\n",
              "Turbidity          False\n",
              "Potability         False\n",
              "dtype: bool"
            ]
          },
          "metadata": {},
          "execution_count": 9
        }
      ],
      "source": [
        "df.isna().any()"
      ]
    },
    {
      "cell_type": "code",
      "execution_count": 10,
      "id": "cff49435",
      "metadata": {
        "execution": {
          "iopub.execute_input": "2024-02-27T19:45:22.804320Z",
          "iopub.status.busy": "2024-02-27T19:45:22.803829Z",
          "iopub.status.idle": "2024-02-27T19:45:22.810981Z",
          "shell.execute_reply": "2024-02-27T19:45:22.809474Z"
        },
        "papermill": {
          "duration": 0.033716,
          "end_time": "2024-02-27T19:45:22.813461",
          "exception": false,
          "start_time": "2024-02-27T19:45:22.779745",
          "status": "completed"
        },
        "tags": [],
        "colab": {
          "base_uri": "https://localhost:8080/"
        },
        "id": "cff49435",
        "outputId": "6145f98a-d826-4e80-cd58-927be20e9b74"
      },
      "outputs": [
        {
          "output_type": "stream",
          "name": "stdout",
          "text": [
            "ph\n",
            "Hardness\n",
            "Solids\n",
            "Chloramines\n",
            "Sulfate\n",
            "Conductivity\n",
            "Organic_carbon\n",
            "Trihalomethanes\n",
            "Turbidity\n",
            "Potability\n"
          ]
        }
      ],
      "source": [
        "columns_name=df.columns\n",
        "for col in df.columns:\n",
        "    print(col)"
      ]
    },
    {
      "cell_type": "code",
      "execution_count": 11,
      "id": "45b16fe1",
      "metadata": {
        "execution": {
          "iopub.execute_input": "2024-02-27T19:45:22.860166Z",
          "iopub.status.busy": "2024-02-27T19:45:22.859667Z",
          "iopub.status.idle": "2024-02-27T19:45:22.872081Z",
          "shell.execute_reply": "2024-02-27T19:45:22.870628Z"
        },
        "papermill": {
          "duration": 0.038754,
          "end_time": "2024-02-27T19:45:22.874352",
          "exception": false,
          "start_time": "2024-02-27T19:45:22.835598",
          "status": "completed"
        },
        "tags": [],
        "colab": {
          "base_uri": "https://localhost:8080/"
        },
        "id": "45b16fe1",
        "outputId": "409be6c4-5517-4e7f-e9c2-5f937260ebd8"
      },
      "outputs": [
        {
          "output_type": "execute_result",
          "data": {
            "text/plain": [
              "False"
            ]
          },
          "metadata": {},
          "execution_count": 11
        }
      ],
      "source": [
        "df.duplicated().any()"
      ]
    },
    {
      "cell_type": "markdown",
      "id": "a0eb7cfb",
      "metadata": {
        "papermill": {
          "duration": 0.021883,
          "end_time": "2024-02-27T19:45:22.918647",
          "exception": false,
          "start_time": "2024-02-27T19:45:22.896764",
          "status": "completed"
        },
        "tags": [],
        "id": "a0eb7cfb"
      },
      "source": [
        "### DATA VISUALIZATION {LOOK INTO THE DATASET}\n",
        "Here we try to analyze the dataset"
      ]
    },
    {
      "cell_type": "code",
      "execution_count": 12,
      "id": "2bf1f4d7",
      "metadata": {
        "execution": {
          "iopub.execute_input": "2024-02-27T19:46:44.493716Z",
          "iopub.status.busy": "2024-02-27T19:46:44.493298Z",
          "iopub.status.idle": "2024-02-27T19:46:44.502542Z",
          "shell.execute_reply": "2024-02-27T19:46:44.501604Z"
        },
        "papermill": {
          "duration": 0.151353,
          "end_time": "2024-02-27T19:46:44.505083",
          "exception": false,
          "start_time": "2024-02-27T19:46:44.353730",
          "status": "completed"
        },
        "tags": [],
        "colab": {
          "base_uri": "https://localhost:8080/"
        },
        "id": "2bf1f4d7",
        "outputId": "72980227-a237-40ea-9f11-eb45ff3b0a97"
      },
      "outputs": [
        {
          "output_type": "execute_result",
          "data": {
            "text/plain": [
              "Potability\n",
              "0    1200\n",
              "1     811\n",
              "Name: count, dtype: int64"
            ]
          },
          "metadata": {},
          "execution_count": 12
        }
      ],
      "source": [
        "p=df['Potability'].value_counts()\n",
        "p"
      ]
    },
    {
      "cell_type": "code",
      "execution_count": 13,
      "id": "4ce8f23c",
      "metadata": {
        "execution": {
          "iopub.execute_input": "2024-02-27T19:46:44.787449Z",
          "iopub.status.busy": "2024-02-27T19:46:44.786666Z",
          "iopub.status.idle": "2024-02-27T19:46:44.916416Z",
          "shell.execute_reply": "2024-02-27T19:46:44.915125Z"
        },
        "papermill": {
          "duration": 0.274611,
          "end_time": "2024-02-27T19:46:44.919094",
          "exception": false,
          "start_time": "2024-02-27T19:46:44.644483",
          "status": "completed"
        },
        "tags": [],
        "colab": {
          "base_uri": "https://localhost:8080/",
          "height": 475
        },
        "id": "4ce8f23c",
        "outputId": "3782bd12-e2f1-46d7-fb89-127961faafe5"
      },
      "outputs": [
        {
          "output_type": "execute_result",
          "data": {
            "text/plain": [
              "([<matplotlib.patches.Wedge at 0x78249a79c3d0>,\n",
              "  <matplotlib.patches.Wedge at 0x78249a79d5d0>],\n",
              " [Text(-0.32911438527483855, 1.0496112239325404, '0'),\n",
              "  Text(0.3291144835465322, -1.0496111931186232, '1')])"
            ]
          },
          "metadata": {},
          "execution_count": 13
        },
        {
          "output_type": "display_data",
          "data": {
            "text/plain": [
              "<Figure size 640x480 with 1 Axes>"
            ],
            "image/png": "[encoded data removed]"
          },
          "metadata": {}
        }
      ],
      "source": [
        "plt.pie(p,labels=[0,1],shadow=True)"
      ]
    },
    {
      "cell_type": "markdown",
      "id": "bd8e0767",
      "metadata": {
        "papermill": {
          "duration": 0.137165,
          "end_time": "2024-02-27T19:46:45.208070",
          "exception": false,
          "start_time": "2024-02-27T19:46:45.070905",
          "status": "completed"
        },
        "tags": [],
        "id": "bd8e0767"
      },
      "source": [
        "### SPLIT_DATA && NORMALIZATION\n",
        "Here we split the dataset intro train and test {30% test and 70% train}"
      ]
    },
    {
      "cell_type": "code",
      "execution_count": 14,
      "id": "f02cc863",
      "metadata": {
        "execution": {
          "iopub.execute_input": "2024-02-27T19:46:45.492756Z",
          "iopub.status.busy": "2024-02-27T19:46:45.492044Z",
          "iopub.status.idle": "2024-02-27T19:46:45.498310Z",
          "shell.execute_reply": "2024-02-27T19:46:45.497358Z"
        },
        "papermill": {
          "duration": 0.151577,
          "end_time": "2024-02-27T19:46:45.500515",
          "exception": false,
          "start_time": "2024-02-27T19:46:45.348938",
          "status": "completed"
        },
        "tags": [],
        "id": "f02cc863"
      },
      "outputs": [],
      "source": [
        "x=df.drop(\"Potability\",axis=1)  # acts as features for classification  except the last column\n",
        "y=df.Potability                 # acts as label [last column]"
      ]
    },
    {
      "cell_type": "code",
      "execution_count": 15,
      "id": "948962aa",
      "metadata": {
        "execution": {
          "iopub.execute_input": "2024-02-27T19:46:45.786165Z",
          "iopub.status.busy": "2024-02-27T19:46:45.784723Z",
          "iopub.status.idle": "2024-02-27T19:46:45.802630Z",
          "shell.execute_reply": "2024-02-27T19:46:45.801441Z"
        },
        "papermill": {
          "duration": 0.164188,
          "end_time": "2024-02-27T19:46:45.805107",
          "exception": false,
          "start_time": "2024-02-27T19:46:45.640919",
          "status": "completed"
        },
        "tags": [],
        "colab": {
          "base_uri": "https://localhost:8080/",
          "height": 206
        },
        "id": "948962aa",
        "outputId": "bafb7d5b-fda2-47ec-f3d3-4897c57a5a51"
      },
      "outputs": [
        {
          "output_type": "execute_result",
          "data": {
            "text/plain": [
              "          ph    Hardness        Solids  Chloramines     Sulfate  Conductivity  \\\n",
              "3   8.316766  214.373394  22018.417441     8.059332  356.886136    363.266516   \n",
              "4   9.092223  181.101509  17978.986339     6.546600  310.135738    398.410813   \n",
              "5   5.584087  188.313324  28748.687739     7.544869  326.678363    280.467916   \n",
              "6  10.223862  248.071735  28749.716544     7.513408  393.663396    283.651634   \n",
              "7   8.635849  203.361523  13672.091764     4.563009  303.309771    474.607645   \n",
              "\n",
              "   Organic_carbon  Trihalomethanes  Turbidity  \n",
              "3       18.436524       100.341674   4.628771  \n",
              "4       11.558279        31.997993   4.075075  \n",
              "5        8.399735        54.917862   2.559708  \n",
              "6       13.789695        84.603556   2.672989  \n",
              "7       12.363817        62.798309   4.401425  "
            ],
            "text/html": [
              "\n",
              "  <div id=\"df-01a54a56-3447-479b-b56b-09659b4f6394\" class=\"colab-df-container\">\n",
              "    <div>\n",
              "<style scoped>\n",
              "    .dataframe tbody tr th:only-of-type {\n",
              "        vertical-align: middle;\n",
              "    }\n",
              "\n",
              "    .dataframe tbody tr th {\n",
              "        vertical-align: top;\n",
              "    }\n",
              "\n",
              "    .dataframe thead th {\n",
              "        text-align: right;\n",
              "    }\n",
              "</style>\n",
              "<table border=\"1\" class=\"dataframe\">\n",
              "  <thead>\n",
              "    <tr style=\"text-align: right;\">\n",
              "      <th></th>\n",
              "      <th>ph</th>\n",
              "      <th>Hardness</th>\n",
              "      <th>Solids</th>\n",
              "      <th>Chloramines</th>\n",
              "      <th>Sulfate</th>\n",
              "      <th>Conductivity</th>\n",
              "      <th>Organic_carbon</th>\n",
              "      <th>Trihalomethanes</th>\n",
              "      <th>Turbidity</th>\n",
              "    </tr>\n",
              "  </thead>\n",
              "  <tbody>\n",
              "    <tr>\n",
              "      <th>3</th>\n",
              "      <td>8.316766</td>\n",
              "      <td>214.373394</td>\n",
              "      <td>22018.417441</td>\n",
              "      <td>8.059332</td>\n",
              "      <td>356.886136</td>\n",
              "      <td>363.266516</td>\n",
              "      <td>18.436524</td>\n",
              "      <td>100.341674</td>\n",
              "      <td>4.628771</td>\n",
              "    </tr>\n",
              "    <tr>\n",
              "      <th>4</th>\n",
              "      <td>9.092223</td>\n",
              "      <td>181.101509</td>\n",
              "      <td>17978.986339</td>\n",
              "      <td>6.546600</td>\n",
              "      <td>310.135738</td>\n",
              "      <td>398.410813</td>\n",
              "      <td>11.558279</td>\n",
              "      <td>31.997993</td>\n",
              "      <td>4.075075</td>\n",
              "    </tr>\n",
              "    <tr>\n",
              "      <th>5</th>\n",
              "      <td>5.584087</td>\n",
              "      <td>188.313324</td>\n",
              "      <td>28748.687739</td>\n",
              "      <td>7.544869</td>\n",
              "      <td>326.678363</td>\n",
              "      <td>280.467916</td>\n",
              "      <td>8.399735</td>\n",
              "      <td>54.917862</td>\n",
              "      <td>2.559708</td>\n",
              "    </tr>\n",
              "    <tr>\n",
              "      <th>6</th>\n",
              "      <td>10.223862</td>\n",
              "      <td>248.071735</td>\n",
              "      <td>28749.716544</td>\n",
              "      <td>7.513408</td>\n",
              "      <td>393.663396</td>\n",
              "      <td>283.651634</td>\n",
              "      <td>13.789695</td>\n",
              "      <td>84.603556</td>\n",
              "      <td>2.672989</td>\n",
              "    </tr>\n",
              "    <tr>\n",
              "      <th>7</th>\n",
              "      <td>8.635849</td>\n",
              "      <td>203.361523</td>\n",
              "      <td>13672.091764</td>\n",
              "      <td>4.563009</td>\n",
              "      <td>303.309771</td>\n",
              "      <td>474.607645</td>\n",
              "      <td>12.363817</td>\n",
              "      <td>62.798309</td>\n",
              "      <td>4.401425</td>\n",
              "    </tr>\n",
              "  </tbody>\n",
              "</table>\n",
              "</div>\n",
              "    <div class=\"colab-df-buttons\">\n",
              "\n",
              "  <div class=\"colab-df-container\">\n",
              "    <button class=\"colab-df-convert\" onclick=\"convertToInteractive('df-01a54a56-3447-479b-b56b-09659b4f6394')\"\n",
              "            title=\"Convert this dataframe to an interactive table.\"\n",
              "            style=\"display:none;\">\n",
              "\n",
              "  <svg xmlns=\"http://www.w3.org/2000/svg\" height=\"24px\" viewBox=\"0 -960 960 960\">\n",
              "    <path d=\"M120-120v-720h720v720H120Zm60-500h600v-160H180v160Zm220 220h160v-160H400v160Zm0 220h160v-160H400v160ZM180-400h160v-160H180v160Zm440 0h160v-160H620v160ZM180-180h160v-160H180v160Zm440 0h160v-160H620v160Z\"/>\n",
              "  </svg>\n",
              "    </button>\n",
              "\n",
              "  <style>\n",
              "    .colab-df-container {\n",
              "      display:flex;\n",
              "      gap: 12px;\n",
              "    }\n",
              "\n",
              "    .colab-df-convert {\n",
              "      background-color: #E8F0FE;\n",
              "      border: none;\n",
              "      border-radius: 50%;\n",
              "      cursor: pointer;\n",
              "      display: none;\n",
              "      fill: #1967D2;\n",
              "      height: 32px;\n",
              "      padding: 0 0 0 0;\n",
              "      width: 32px;\n",
              "    }\n",
              "\n",
              "    .colab-df-convert:hover {\n",
              "      background-color: #E2EBFA;\n",
              "      box-shadow: 0px 1px 2px rgba(60, 64, 67, 0.3), 0px 1px 3px 1px rgba(60, 64, 67, 0.15);\n",
              "      fill: #174EA6;\n",
              "    }\n",
              "\n",
              "    .colab-df-buttons div {\n",
              "      margin-bottom: 4px;\n",
              "    }\n",
              "\n",
              "    [theme=dark] .colab-df-convert {\n",
              "      background-color: #3B4455;\n",
              "      fill: #D2E3FC;\n",
              "    }\n",
              "\n",
              "    [theme=dark] .colab-df-convert:hover {\n",
              "      background-color: #434B5C;\n",
              "      box-shadow: 0px 1px 3px 1px rgba(0, 0, 0, 0.15);\n",
              "      filter: drop-shadow(0px 1px 2px rgba(0, 0, 0, 0.3));\n",
              "      fill: #FFFFFF;\n",
              "    }\n",
              "  </style>\n",
              "\n",
              "    <script>\n",
              "      const buttonEl =\n",
              "        document.querySelector('#df-01a54a56-3447-479b-b56b-09659b4f6394 button.colab-df-convert');\n",
              "      buttonEl.style.display =\n",
              "        google.colab.kernel.accessAllowed ? 'block' : 'none';\n",
              "\n",
              "      async function convertToInteractive(key) {\n",
              "        const element = document.querySelector('#df-01a54a56-3447-479b-b56b-09659b4f6394');\n",
              "        const dataTable =\n",
              "          await google.colab.kernel.invokeFunction('convertToInteractive',\n",
              "                                                    [key], {});\n",
              "        if (!dataTable) return;\n",
              "\n",
              "        const docLinkHtml = 'Like what you see? Visit the ' +\n",
              "          '<a target=\"_blank\" href=https://colab.research.google.com/notebooks/data_table.ipynb>data table notebook</a>'\n",
              "          + ' to learn more about interactive tables.';\n",
              "        element.innerHTML = '';\n",
              "        dataTable['output_type'] = 'display_data';\n",
              "        await google.colab.output.renderOutput(dataTable, element);\n",
              "        const docLink = document.createElement('div');\n",
              "        docLink.innerHTML = docLinkHtml;\n",
              "        element.appendChild(docLink);\n",
              "      }\n",
              "    </script>\n",
              "  </div>\n",
              "\n",
              "\n",
              "<div id=\"df-d95dfae7-60f3-4a51-9824-593ee72197df\">\n",
              "  <button class=\"colab-df-quickchart\" onclick=\"quickchart('df-d95dfae7-60f3-4a51-9824-593ee72197df')\"\n",
              "            title=\"Suggest charts\"\n",
              "            style=\"display:none;\">\n",
              "\n",
              "<svg xmlns=\"http://www.w3.org/2000/svg\" height=\"24px\"viewBox=\"0 0 24 24\"\n",
              "     width=\"24px\">\n",
              "    <g>\n",
              "        <path d=\"M19 3H5c-1.1 0-2 .9-2 2v14c0 1.1.9 2 2 2h14c1.1 0 2-.9 2-2V5c0-1.1-.9-2-2-2zM9 17H7v-7h2v7zm4 0h-2V7h2v10zm4 0h-2v-4h2v4z\"/>\n",
              "    </g>\n",
              "</svg>\n",
              "  </button>\n",
              "\n",
              "<style>\n",
              "  .colab-df-quickchart {\n",
              "      --bg-color: #E8F0FE;\n",
              "      --fill-color: #1967D2;\n",
              "      --hover-bg-color: #E2EBFA;\n",
              "      --hover-fill-color: #174EA6;\n",
              "      --disabled-fill-color: #AAA;\n",
              "      --disabled-bg-color: #DDD;\n",
              "  }\n",
              "\n",
              "  [theme=dark] .colab-df-quickchart {\n",
              "      --bg-color: #3B4455;\n",
              "      --fill-color: #D2E3FC;\n",
              "      --hover-bg-color: #434B5C;\n",
              "      --hover-fill-color: #FFFFFF;\n",
              "      --disabled-bg-color: #3B4455;\n",
              "      --disabled-fill-color: #666;\n",
              "  }\n",
              "\n",
              "  .colab-df-quickchart {\n",
              "    background-color: var(--bg-color);\n",
              "    border: none;\n",
              "    border-radius: 50%;\n",
              "    cursor: pointer;\n",
              "    display: none;\n",
              "    fill: var(--fill-color);\n",
              "    height: 32px;\n",
              "    padding: 0;\n",
              "    width: 32px;\n",
              "  }\n",
              "\n",
              "  .colab-df-quickchart:hover {\n",
              "    background-color: var(--hover-bg-color);\n",
              "    box-shadow: 0 1px 2px rgba(60, 64, 67, 0.3), 0 1px 3px 1px rgba(60, 64, 67, 0.15);\n",
              "    fill: var(--button-hover-fill-color);\n",
              "  }\n",
              "\n",
              "  .colab-df-quickchart-complete:disabled,\n",
              "  .colab-df-quickchart-complete:disabled:hover {\n",
              "    background-color: var(--disabled-bg-color);\n",
              "    fill: var(--disabled-fill-color);\n",
              "    box-shadow: none;\n",
              "  }\n",
              "\n",
              "  .colab-df-spinner {\n",
              "    border: 2px solid var(--fill-color);\n",
              "    border-color: transparent;\n",
              "    border-bottom-color: var(--fill-color);\n",
              "    animation:\n",
              "      spin 1s steps(1) infinite;\n",
              "  }\n",
              "\n",
              "  @keyframes spin {\n",
              "    0% {\n",
              "      border-color: transparent;\n",
              "      border-bottom-color: var(--fill-color);\n",
              "      border-left-color: var(--fill-color);\n",
              "    }\n",
              "    20% {\n",
              "      border-color: transparent;\n",
              "      border-left-color: var(--fill-color);\n",
              "      border-top-color: var(--fill-color);\n",
              "    }\n",
              "    30% {\n",
              "      border-color: transparent;\n",
              "      border-left-color: var(--fill-color);\n",
              "      border-top-color: var(--fill-color);\n",
              "      border-right-color: var(--fill-color);\n",
              "    }\n",
              "    40% {\n",
              "      border-color: transparent;\n",
              "      border-right-color: var(--fill-color);\n",
              "      border-top-color: var(--fill-color);\n",
              "    }\n",
              "    60% {\n",
              "      border-color: transparent;\n",
              "      border-right-color: var(--fill-color);\n",
              "    }\n",
              "    80% {\n",
              "      border-color: transparent;\n",
              "      border-right-color: var(--fill-color);\n",
              "      border-bottom-color: var(--fill-color);\n",
              "    }\n",
              "    90% {\n",
              "      border-color: transparent;\n",
              "      border-bottom-color: var(--fill-color);\n",
              "    }\n",
              "  }\n",
              "</style>\n",
              "\n",
              "  <script>\n",
              "    async function quickchart(key) {\n",
              "      const quickchartButtonEl =\n",
              "        document.querySelector('#' + key + ' button');\n",
              "      quickchartButtonEl.disabled = true;  // To prevent multiple clicks.\n",
              "      quickchartButtonEl.classList.add('colab-df-spinner');\n",
              "      try {\n",
              "        const charts = await google.colab.kernel.invokeFunction(\n",
              "            'suggestCharts', [key], {});\n",
              "      } catch (error) {\n",
              "        console.error('Error during call to suggestCharts:', error);\n",
              "      }\n",
              "      quickchartButtonEl.classList.remove('colab-df-spinner');\n",
              "      quickchartButtonEl.classList.add('colab-df-quickchart-complete');\n",
              "    }\n",
              "    (() => {\n",
              "      let quickchartButtonEl =\n",
              "        document.querySelector('#df-d95dfae7-60f3-4a51-9824-593ee72197df button');\n",
              "      quickchartButtonEl.style.display =\n",
              "        google.colab.kernel.accessAllowed ? 'block' : 'none';\n",
              "    })();\n",
              "  </script>\n",
              "</div>\n",
              "\n",
              "    </div>\n",
              "  </div>\n"
            ],
            "application/vnd.google.colaboratory.intrinsic+json": {
              "type": "dataframe",
              "variable_name": "x",
              "summary": "{\n  \"name\": \"x\",\n  \"rows\": 2011,\n  \"fields\": [\n    {\n      \"column\": \"ph\",\n      \"properties\": {\n        \"dtype\": \"number\",\n        \"std\": 1.5733367106370792,\n        \"min\": 0.2274990502021987,\n        \"max\": 13.999999999999998,\n        \"num_unique_values\": 2011,\n        \"samples\": [\n          8.157518082656166,\n          8.296344055589273,\n          6.576845323081143\n        ],\n        \"semantic_type\": \"\",\n        \"description\": \"\"\n      }\n    },\n    {\n      \"column\": \"Hardness\",\n      \"properties\": {\n        \"dtype\": \"number\",\n        \"std\": 32.635084523128306,\n        \"min\": 73.4922336890611,\n        \"max\": 317.33812405558257,\n        \"num_unique_values\": 2011,\n        \"samples\": [\n          236.34444018130267,\n          198.19705121398164,\n          156.22176808976658\n        ],\n        \"semantic_type\": \"\",\n        \"description\": \"\"\n      }\n    },\n    {\n      \"column\": \"Solids\",\n      \"properties\": {\n        \"dtype\": \"number\",\n        \"std\": 8642.23981516227,\n        \"min\": 320.942611274359,\n        \"max\": 56488.67241273919,\n        \"num_unique_values\": 2011,\n        \"samples\": [\n          27931.2084020948,\n          17468.99980174377,\n          12772.095750375796\n        ],\n        \"semantic_type\": \"\",\n        \"description\": \"\"\n      }\n    },\n    {\n      \"column\": \"Chloramines\",\n      \"properties\": {\n        \"dtype\": \"number\",\n        \"std\": 1.5848198811839798,\n        \"min\": 1.3908709048851806,\n        \"max\": 13.127000000000002,\n        \"num_unique_values\": 2011,\n        \"samples\": [\n          6.203675921735492,\n          8.262903987469691,\n          9.759897651507403\n        ],\n        \"semantic_type\": \"\",\n        \"description\": \"\"\n      }\n    },\n    {\n      \"column\": \"Sulfate\",\n      \"properties\": {\n        \"dtype\": \"number\",\n        \"std\": 41.20517203715114,\n        \"min\": 129.00000000000003,\n        \"max\": 481.0306423059972,\n        \"num_unique_values\": 2011,\n        \"samples\": [\n          325.32395487892074,\n          369.5907404838077,\n          341.7493777183877\n        ],\n        \"semantic_type\": \"\",\n        \"description\": \"\"\n      }\n    },\n    {\n      \"column\": \"Conductivity\",\n      \"properties\": {\n        \"dtype\": \"number\",\n        \"std\": 80.71257240919473,\n        \"min\": 201.6197367551575,\n        \"max\": 753.3426195583046,\n        \"num_unique_values\": 2011,\n        \"samples\": [\n          511.5876640552089,\n          294.32514221521586,\n          418.9724665928773\n        ],\n        \"semantic_type\": \"\",\n        \"description\": \"\"\n      }\n    },\n    {\n      \"column\": \"Organic_carbon\",\n      \"properties\": {\n        \"dtype\": \"number\",\n        \"std\": 3.32495865897098,\n        \"min\": 2.1999999999999886,\n        \"max\": 27.00670661116601,\n        \"num_unique_values\": 2011,\n        \"samples\": [\n          13.381574853259394,\n          18.026098152350755,\n          10.382252653107573\n        ],\n        \"semantic_type\": \"\",\n        \"description\": \"\"\n      }\n    },\n    {\n      \"column\": \"Trihalomethanes\",\n      \"properties\": {\n        \"dtype\": \"number\",\n        \"std\": 16.077109482430878,\n        \"min\": 8.577012932983806,\n        \"max\": 124.0,\n        \"num_unique_values\": 2011,\n        \"samples\": [\n          80.68695836176197,\n          44.06162518425721,\n          78.3051797103557\n        ],\n        \"semantic_type\": \"\",\n        \"description\": \"\"\n      }\n    },\n    {\n      \"column\": \"Turbidity\",\n      \"properties\": {\n        \"dtype\": \"number\",\n        \"std\": 0.7803461587138515,\n        \"min\": 1.45,\n        \"max\": 6.494748555990993,\n        \"num_unique_values\": 2011,\n        \"samples\": [\n          4.469430538245373,\n          5.400810789347245,\n          3.7713135180813815\n        ],\n        \"semantic_type\": \"\",\n        \"description\": \"\"\n      }\n    }\n  ]\n}"
            }
          },
          "metadata": {},
          "execution_count": 15
        }
      ],
      "source": [
        "x.head()"
      ]
    },
    {
      "cell_type": "code",
      "execution_count": 16,
      "id": "76065608",
      "metadata": {
        "execution": {
          "iopub.execute_input": "2024-02-27T19:46:46.088995Z",
          "iopub.status.busy": "2024-02-27T19:46:46.087137Z",
          "iopub.status.idle": "2024-02-27T19:46:46.097317Z",
          "shell.execute_reply": "2024-02-27T19:46:46.096096Z"
        },
        "papermill": {
          "duration": 0.153722,
          "end_time": "2024-02-27T19:46:46.099577",
          "exception": false,
          "start_time": "2024-02-27T19:46:45.945855",
          "status": "completed"
        },
        "tags": [],
        "colab": {
          "base_uri": "https://localhost:8080/"
        },
        "id": "76065608",
        "outputId": "f0ce6e26-71a1-45c1-f4c1-3be4c1236896"
      },
      "outputs": [
        {
          "output_type": "execute_result",
          "data": {
            "text/plain": [
              "3       0\n",
              "4       0\n",
              "5       0\n",
              "6       0\n",
              "7       0\n",
              "       ..\n",
              "3267    1\n",
              "3268    1\n",
              "3269    1\n",
              "3270    1\n",
              "3271    1\n",
              "Name: Potability, Length: 2011, dtype: int64"
            ]
          },
          "metadata": {},
          "execution_count": 16
        }
      ],
      "source": [
        "y"
      ]
    },
    {
      "cell_type": "code",
      "execution_count": 17,
      "id": "a1444eef",
      "metadata": {
        "execution": {
          "iopub.execute_input": "2024-02-27T19:46:46.386531Z",
          "iopub.status.busy": "2024-02-27T19:46:46.385121Z",
          "iopub.status.idle": "2024-02-27T19:46:46.553364Z",
          "shell.execute_reply": "2024-02-27T19:46:46.552076Z"
        },
        "papermill": {
          "duration": 0.315767,
          "end_time": "2024-02-27T19:46:46.556750",
          "exception": false,
          "start_time": "2024-02-27T19:46:46.240983",
          "status": "completed"
        },
        "tags": [],
        "colab": {
          "base_uri": "https://localhost:8080/",
          "height": 331
        },
        "id": "a1444eef",
        "outputId": "9321a768-05b6-43e9-f18e-a101dab21721"
      },
      "outputs": [
        {
          "output_type": "execute_result",
          "data": {
            "text/plain": [
              "<pandas.io.formats.style.Styler at 0x78249a721930>"
            ],
            "text/html": [
              "<style type=\"text/css\">\n",
              "#T_cac38_row0_col0, #T_cac38_row1_col0, #T_cac38_row2_col0, #T_cac38_row3_col0, #T_cac38_row4_col0, #T_cac38_row5_col0, #T_cac38_row6_col0, #T_cac38_row7_col0, #T_cac38_row8_col0 {\n",
              "  background-color: #fff7fb;\n",
              "  color: #000000;\n",
              "}\n",
              "#T_cac38_row0_col1, #T_cac38_row1_col1, #T_cac38_row2_col1, #T_cac38_row3_col1, #T_cac38_row4_col1, #T_cac38_row5_col1, #T_cac38_row6_col1, #T_cac38_row7_col1, #T_cac38_row8_col1 {\n",
              "  background-color: #023858;\n",
              "  color: #f1f1f1;\n",
              "}\n",
              "#T_cac38_row0_col2, #T_cac38_row4_col2 {\n",
              "  background-color: #eee8f3;\n",
              "  color: #000000;\n",
              "}\n",
              "#T_cac38_row0_col3, #T_cac38_row8_col3 {\n",
              "  background-color: #75a9cf;\n",
              "  color: #f1f1f1;\n",
              "}\n",
              "#T_cac38_row1_col2, #T_cac38_row3_col2, #T_cac38_row6_col2 {\n",
              "  background-color: #eae6f1;\n",
              "  color: #000000;\n",
              "}\n",
              "#T_cac38_row1_col3, #T_cac38_row7_col3 {\n",
              "  background-color: #73a9cf;\n",
              "  color: #f1f1f1;\n",
              "}\n",
              "#T_cac38_row2_col2, #T_cac38_row8_col2 {\n",
              "  background-color: #e6e2ef;\n",
              "  color: #000000;\n",
              "}\n",
              "#T_cac38_row2_col3 {\n",
              "  background-color: #a2bcda;\n",
              "  color: #000000;\n",
              "}\n",
              "#T_cac38_row3_col3, #T_cac38_row6_col3 {\n",
              "  background-color: #78abd0;\n",
              "  color: #f1f1f1;\n",
              "}\n",
              "#T_cac38_row4_col3 {\n",
              "  background-color: #4c99c5;\n",
              "  color: #f1f1f1;\n",
              "}\n",
              "#T_cac38_row5_col2 {\n",
              "  background-color: #e7e3f0;\n",
              "  color: #000000;\n",
              "}\n",
              "#T_cac38_row5_col3 {\n",
              "  background-color: #99b8d8;\n",
              "  color: #000000;\n",
              "}\n",
              "#T_cac38_row7_col2 {\n",
              "  background-color: #e9e5f1;\n",
              "  color: #000000;\n",
              "}\n",
              "</style>\n",
              "<table id=\"T_cac38\" class=\"dataframe\">\n",
              "  <thead>\n",
              "    <tr>\n",
              "      <th class=\"blank level0\" >&nbsp;</th>\n",
              "      <th id=\"T_cac38_level0_col0\" class=\"col_heading level0 col0\" >min</th>\n",
              "      <th id=\"T_cac38_level0_col1\" class=\"col_heading level0 col1\" >max</th>\n",
              "      <th id=\"T_cac38_level0_col2\" class=\"col_heading level0 col2\" >std</th>\n",
              "      <th id=\"T_cac38_level0_col3\" class=\"col_heading level0 col3\" >mean</th>\n",
              "    </tr>\n",
              "  </thead>\n",
              "  <tbody>\n",
              "    <tr>\n",
              "      <th id=\"T_cac38_level0_row0\" class=\"row_heading level0 row0\" >ph</th>\n",
              "      <td id=\"T_cac38_row0_col0\" class=\"data row0 col0\" >0.000000</td>\n",
              "      <td id=\"T_cac38_row0_col1\" class=\"data row0 col1\" >1.000000</td>\n",
              "      <td id=\"T_cac38_row0_col2\" class=\"data row0 col2\" >0.114238</td>\n",
              "      <td id=\"T_cac38_row0_col3\" class=\"data row0 col3\" >0.497984</td>\n",
              "    </tr>\n",
              "    <tr>\n",
              "      <th id=\"T_cac38_level0_row1\" class=\"row_heading level0 row1\" >Hardness</th>\n",
              "      <td id=\"T_cac38_row1_col0\" class=\"data row1 col0\" >0.000000</td>\n",
              "      <td id=\"T_cac38_row1_col1\" class=\"data row1 col1\" >1.000000</td>\n",
              "      <td id=\"T_cac38_row1_col2\" class=\"data row1 col2\" >0.133835</td>\n",
              "      <td id=\"T_cac38_row1_col3\" class=\"data row1 col3\" >0.502267</td>\n",
              "    </tr>\n",
              "    <tr>\n",
              "      <th id=\"T_cac38_level0_row2\" class=\"row_heading level0 row2\" >Solids</th>\n",
              "      <td id=\"T_cac38_row2_col0\" class=\"data row2 col0\" >0.000000</td>\n",
              "      <td id=\"T_cac38_row2_col1\" class=\"data row2 col1\" >1.000000</td>\n",
              "      <td id=\"T_cac38_row2_col2\" class=\"data row2 col2\" >0.153865</td>\n",
              "      <td id=\"T_cac38_row2_col3\" class=\"data row2 col3\" >0.384500</td>\n",
              "    </tr>\n",
              "    <tr>\n",
              "      <th id=\"T_cac38_level0_row3\" class=\"row_heading level0 row3\" >Chloramines</th>\n",
              "      <td id=\"T_cac38_row3_col0\" class=\"data row3 col0\" >0.000000</td>\n",
              "      <td id=\"T_cac38_row3_col1\" class=\"data row3 col1\" >1.000000</td>\n",
              "      <td id=\"T_cac38_row3_col2\" class=\"data row3 col2\" >0.135038</td>\n",
              "      <td id=\"T_cac38_row3_col3\" class=\"data row3 col3\" >0.489383</td>\n",
              "    </tr>\n",
              "    <tr>\n",
              "      <th id=\"T_cac38_level0_row4\" class=\"row_heading level0 row4\" >Sulfate</th>\n",
              "      <td id=\"T_cac38_row4_col0\" class=\"data row4 col0\" >0.000000</td>\n",
              "      <td id=\"T_cac38_row4_col1\" class=\"data row4 col1\" >1.000000</td>\n",
              "      <td id=\"T_cac38_row4_col2\" class=\"data row4 col2\" >0.117050</td>\n",
              "      <td id=\"T_cac38_row4_col3\" class=\"data row4 col3\" >0.580133</td>\n",
              "    </tr>\n",
              "    <tr>\n",
              "      <th id=\"T_cac38_level0_row5\" class=\"row_heading level0 row5\" >Conductivity</th>\n",
              "      <td id=\"T_cac38_row5_col0\" class=\"data row5 col0\" >0.000000</td>\n",
              "      <td id=\"T_cac38_row5_col1\" class=\"data row5 col1\" >1.000000</td>\n",
              "      <td id=\"T_cac38_row5_col2\" class=\"data row5 col2\" >0.146292</td>\n",
              "      <td id=\"T_cac38_row5_col3\" class=\"data row5 col3\" >0.407644</td>\n",
              "    </tr>\n",
              "    <tr>\n",
              "      <th id=\"T_cac38_level0_row6\" class=\"row_heading level0 row6\" >Organic_carbon</th>\n",
              "      <td id=\"T_cac38_row6_col0\" class=\"data row6 col0\" >0.000000</td>\n",
              "      <td id=\"T_cac38_row6_col1\" class=\"data row6 col1\" >1.000000</td>\n",
              "      <td id=\"T_cac38_row6_col2\" class=\"data row6 col2\" >0.134035</td>\n",
              "      <td id=\"T_cac38_row6_col3\" class=\"data row6 col3\" >0.490098</td>\n",
              "    </tr>\n",
              "    <tr>\n",
              "      <th id=\"T_cac38_level0_row7\" class=\"row_heading level0 row7\" >Trihalomethanes</th>\n",
              "      <td id=\"T_cac38_row7_col0\" class=\"data row7 col0\" >0.000000</td>\n",
              "      <td id=\"T_cac38_row7_col1\" class=\"data row7 col1\" >1.000000</td>\n",
              "      <td id=\"T_cac38_row7_col2\" class=\"data row7 col2\" >0.139289</td>\n",
              "      <td id=\"T_cac38_row7_col3\" class=\"data row7 col3\" >0.500973</td>\n",
              "    </tr>\n",
              "    <tr>\n",
              "      <th id=\"T_cac38_level0_row8\" class=\"row_heading level0 row8\" >Turbidity</th>\n",
              "      <td id=\"T_cac38_row8_col0\" class=\"data row8 col0\" >0.000000</td>\n",
              "      <td id=\"T_cac38_row8_col1\" class=\"data row8 col1\" >1.000000</td>\n",
              "      <td id=\"T_cac38_row8_col2\" class=\"data row8 col2\" >0.154685</td>\n",
              "      <td id=\"T_cac38_row8_col3\" class=\"data row8 col3\" >0.499476</td>\n",
              "    </tr>\n",
              "  </tbody>\n",
              "</table>\n"
            ]
          },
          "metadata": {},
          "execution_count": 17
        }
      ],
      "source": [
        "from sklearn.preprocessing import MinMaxScaler\n",
        "scaler=MinMaxScaler()\n",
        "df = pd.DataFrame(scaler.fit_transform(x), columns=x.columns)\n",
        "df.describe().loc[['min','max','std','mean']].T.style.background_gradient(axis=1)"
      ]
    },
    {
      "cell_type": "code",
      "execution_count": 18,
      "id": "6357ed25",
      "metadata": {
        "execution": {
          "iopub.execute_input": "2024-02-27T19:46:47.808395Z",
          "iopub.status.busy": "2024-02-27T19:46:47.807568Z",
          "iopub.status.idle": "2024-02-27T19:46:47.935004Z",
          "shell.execute_reply": "2024-02-27T19:46:47.933550Z"
        },
        "papermill": {
          "duration": 0.271363,
          "end_time": "2024-02-27T19:46:47.938176",
          "exception": false,
          "start_time": "2024-02-27T19:46:47.666813",
          "status": "completed"
        },
        "tags": [],
        "id": "6357ed25"
      },
      "outputs": [],
      "source": [
        "from sklearn.model_selection import train_test_split, GridSearchCV\n",
        "x_train,x_test,y_train,y_test=train_test_split(x,y,test_size=.3,shuffle=True,random_state=42)"
      ]
    },
    {
      "cell_type": "code",
      "execution_count": 19,
      "id": "862e866e",
      "metadata": {
        "execution": {
          "iopub.execute_input": "2024-02-27T19:46:48.228656Z",
          "iopub.status.busy": "2024-02-27T19:46:48.227717Z",
          "iopub.status.idle": "2024-02-27T19:46:48.235345Z",
          "shell.execute_reply": "2024-02-27T19:46:48.233797Z"
        },
        "papermill": {
          "duration": 0.154568,
          "end_time": "2024-02-27T19:46:48.237837",
          "exception": false,
          "start_time": "2024-02-27T19:46:48.083269",
          "status": "completed"
        },
        "tags": [],
        "colab": {
          "base_uri": "https://localhost:8080/"
        },
        "id": "862e866e",
        "outputId": "337ef61e-2400-4a71-a916-1309fc879e0e"
      },
      "outputs": [
        {
          "output_type": "stream",
          "name": "stdout",
          "text": [
            "x_train shape =  (1407, 9)\n",
            "y_train shape =  (1407,)\n",
            "x_test shape =  (604, 9)\n",
            "y_test shape =  (604,)\n"
          ]
        }
      ],
      "source": [
        "print(\"x_train shape = \", x_train.shape)\n",
        "print(\"y_train shape = \", y_train.shape)\n",
        "print(\"x_test shape = \", x_test.shape)\n",
        "print(\"y_test shape = \", y_test.shape)"
      ]
    },
    {
      "cell_type": "code",
      "execution_count": 20,
      "id": "a89a5b2e",
      "metadata": {
        "execution": {
          "iopub.execute_input": "2024-02-27T19:46:48.529650Z",
          "iopub.status.busy": "2024-02-27T19:46:48.529157Z",
          "iopub.status.idle": "2024-02-27T19:46:48.787306Z",
          "shell.execute_reply": "2024-02-27T19:46:48.786396Z"
        },
        "papermill": {
          "duration": 0.408701,
          "end_time": "2024-02-27T19:46:48.790356",
          "exception": false,
          "start_time": "2024-02-27T19:46:48.381655",
          "status": "completed"
        },
        "tags": [],
        "colab": {
          "base_uri": "https://localhost:8080/",
          "height": 525
        },
        "id": "a89a5b2e",
        "outputId": "d49dc88f-610a-49d4-ff8e-75a87d6cebce"
      },
      "outputs": [
        {
          "output_type": "display_data",
          "data": {
            "text/plain": [
              "<Figure size 1500x600 with 1 Axes>"
            ],
            "image/png": "[encoded data removed]"
          },
          "metadata": {}
        }
      ],
      "source": [
        "shapes = {\n",
        "    'X_train': x_train.shape[0],\n",
        "    'y_train': y_train.shape[0],\n",
        "    'X_test': x_test.shape[0],\n",
        "    'y_test': y_test.shape[0]\n",
        "}\n",
        "plt.figure(figsize=(15, 6))\n",
        "plt.bar(shapes.keys(), shapes.values())\n",
        "plt.xlabel('Datasets')\n",
        "plt.ylabel('Number of instances')\n",
        "plt.title('Distribution of Training and Validation Sets')\n",
        "plt.show()"
      ]
    },
    {
      "cell_type": "markdown",
      "id": "cee9ade3",
      "metadata": {
        "papermill": {
          "duration": 0.148157,
          "end_time": "2024-02-27T19:46:49.096602",
          "exception": false,
          "start_time": "2024-02-27T19:46:48.948445",
          "status": "completed"
        },
        "tags": [],
        "id": "cee9ade3"
      },
      "source": [
        "### MODELING_EVALUATION\n",
        "We tarin the Model using different models of evaluation.\n",
        "\n",
        "In our project we train using 3 differnt models and choose the one which is the best .\n",
        "\n",
        "1. LOGISTIC REGRESSION MODEL\n",
        "2. SVM MODEL\n",
        "3. DECISION TREE MODEL"
      ]
    },
    {
      "cell_type": "markdown",
      "id": "e8e8f0eb",
      "metadata": {
        "papermill": {
          "duration": 0.142853,
          "end_time": "2024-02-27T19:46:49.384250",
          "exception": false,
          "start_time": "2024-02-27T19:46:49.241397",
          "status": "completed"
        },
        "tags": [],
        "id": "e8e8f0eb"
      },
      "source": [
        "### 1. LOGICTIC REGRESSION MODEL\n"
      ]
    },
    {
      "cell_type": "code",
      "execution_count": 35,
      "id": "26d39f78",
      "metadata": {
        "execution": {
          "iopub.execute_input": "2024-02-27T19:46:49.671402Z",
          "iopub.status.busy": "2024-02-27T19:46:49.670768Z",
          "iopub.status.idle": "2024-02-27T19:46:49.774771Z",
          "shell.execute_reply": "2024-02-27T19:46:49.773528Z"
        },
        "papermill": {
          "duration": 0.250844,
          "end_time": "2024-02-27T19:46:49.777878",
          "exception": false,
          "start_time": "2024-02-27T19:46:49.527034",
          "status": "completed"
        },
        "tags": [],
        "id": "26d39f78"
      },
      "outputs": [],
      "source": [
        "from sklearn.linear_model import LogisticRegression\n",
        "from sklearn.metrics import confusion_matrix\n",
        "from sklearn.metrics import classification_report\n"
      ]
    },
    {
      "cell_type": "code",
      "execution_count": 36,
      "id": "e626d0e5",
      "metadata": {
        "execution": {
          "iopub.execute_input": "2024-02-27T19:46:50.064241Z",
          "iopub.status.busy": "2024-02-27T19:46:50.063790Z",
          "iopub.status.idle": "2024-02-27T19:46:50.070247Z",
          "shell.execute_reply": "2024-02-27T19:46:50.069059Z"
        },
        "papermill": {
          "duration": 0.152124,
          "end_time": "2024-02-27T19:46:50.072550",
          "exception": false,
          "start_time": "2024-02-27T19:46:49.920426",
          "status": "completed"
        },
        "tags": [],
        "id": "e626d0e5"
      },
      "outputs": [],
      "source": [
        "# Model Creation\n",
        "lr_model=LogisticRegression()\n",
        "lr_model.fit(x_train,y_train)\n",
        "lrm_pred=lr_model.predict(x_test)"
      ]
    },
    {
      "cell_type": "code",
      "execution_count": 37,
      "id": "c198739f",
      "metadata": {
        "execution": {
          "iopub.execute_input": "2024-02-27T19:46:51.077800Z",
          "iopub.status.busy": "2024-02-27T19:46:51.076412Z",
          "iopub.status.idle": "2024-02-27T19:46:51.086475Z",
          "shell.execute_reply": "2024-02-27T19:46:51.085268Z"
        },
        "papermill": {
          "duration": 0.159002,
          "end_time": "2024-02-27T19:46:51.088693",
          "exception": false,
          "start_time": "2024-02-27T19:46:50.929691",
          "status": "completed"
        },
        "tags": [],
        "colab": {
          "base_uri": "https://localhost:8080/"
        },
        "id": "c198739f",
        "outputId": "c2224593-11e6-4b0b-f0b6-a2de39db171c"
      },
      "outputs": [
        {
          "output_type": "execute_result",
          "data": {
            "text/plain": [
              "array([0, 0, 0, 0, 0, 0, 0, 0, 0, 0, 0, 0, 0, 0, 0, 0, 0, 0, 0, 0, 0, 0,\n",
              "       0, 0, 0, 0, 0, 0, 0, 0, 0, 0, 0, 0, 0, 0, 0, 0, 0, 0, 0, 0, 0, 0,\n",
              "       0, 0, 0, 0, 0, 0, 0, 0, 0, 0, 0, 0, 0, 0, 0, 0, 0, 0, 0, 0, 0, 0,\n",
              "       0, 0, 0, 0, 0, 0, 0, 0, 0, 0, 0, 0, 0, 0, 0, 0, 0, 0, 0, 0, 0, 0,\n",
              "       0, 0, 0, 0, 0, 0, 0, 0, 0, 0, 0, 0, 0, 0, 0, 0, 0, 0, 0, 0, 0, 0,\n",
              "       0, 0, 0, 0, 0, 0, 0, 0, 0, 0, 0, 0, 0, 0, 0, 0, 0, 0, 0, 0, 0, 0,\n",
              "       0, 0, 0, 0, 0, 0, 0, 0, 0, 0, 0, 0, 0, 0, 0, 0, 0, 0, 0, 0, 0, 0,\n",
              "       0, 0, 0, 0, 0, 0, 0, 0, 0, 0, 0, 0, 0, 0, 0, 0, 0, 0, 0, 0, 0, 0,\n",
              "       0, 0, 0, 0, 0, 0, 0, 0, 0, 0, 0, 0, 0, 0, 0, 0, 0, 0, 0, 0, 0, 0,\n",
              "       0, 0, 0, 0, 0, 0, 0, 0, 0, 0, 0, 0, 0, 0, 0, 0, 0, 0, 0, 0, 0, 0,\n",
              "       0, 0, 0, 0, 0, 0, 0, 0, 0, 0, 0, 0, 0, 0, 0, 0, 0, 0, 0, 0, 0, 0,\n",
              "       0, 0, 0, 0, 0, 0, 0, 0, 0, 0, 0, 0, 0, 0, 0, 0, 0, 0, 0, 0, 0, 0,\n",
              "       0, 0, 0, 0, 0, 0, 0, 0, 0, 0, 0, 0, 0, 0, 0, 0, 0, 0, 0, 0, 0, 0,\n",
              "       0, 0, 0, 0, 0, 0, 0, 0, 0, 0, 0, 0, 0, 0, 0, 0, 0, 0, 0, 0, 0, 0,\n",
              "       0, 0, 0, 0, 0, 0, 0, 0, 0, 0, 0, 0, 0, 0, 0, 0, 0, 0, 0, 0, 0, 0,\n",
              "       0, 0, 0, 0, 0, 0, 0, 0, 0, 0, 0, 0, 0, 0, 0, 0, 0, 0, 0, 0, 0, 0,\n",
              "       0, 0, 0, 0, 0, 0, 0, 0, 0, 0, 0, 0, 0, 0, 0, 0, 0, 0, 0, 0, 0, 0,\n",
              "       0, 0, 0, 0, 0, 0, 0, 0, 0, 0, 0, 0, 0, 0, 0, 0, 0, 0, 0, 0, 0, 0,\n",
              "       0, 0, 0, 0, 0, 0, 0, 0, 0, 0, 0, 0, 0, 0, 0, 0, 0, 0, 0, 0, 0, 0,\n",
              "       0, 0, 0, 0, 0, 0, 0, 0, 0, 0, 0, 0, 0, 0, 0, 0, 0, 0, 0, 0, 0, 0,\n",
              "       0, 0, 0, 0, 0, 0, 0, 0, 0, 0, 0, 0, 0, 0, 0, 0, 0, 0, 0, 0, 0, 0,\n",
              "       0, 0, 0, 0, 0, 0, 0, 0, 0, 0, 0, 0, 0, 0, 0, 0, 0, 0, 0, 0, 0, 0,\n",
              "       0, 0, 0, 0, 0, 0, 0, 0, 0, 0, 0, 0, 0, 0, 0, 0, 0, 0, 0, 0, 0, 0,\n",
              "       0, 0, 0, 0, 0, 0, 0, 0, 0, 0, 0, 0, 0, 0, 0, 0, 0, 0, 0, 0, 0, 0,\n",
              "       0, 0, 0, 0, 0, 0, 0, 0, 0, 0, 0, 0, 0, 0, 0, 0, 0, 0, 0, 0, 0, 0,\n",
              "       0, 0, 0, 0, 0, 0, 0, 0, 0, 0, 0, 0, 0, 0, 0, 0, 0, 0, 0, 0, 0, 0,\n",
              "       0, 0, 0, 0, 0, 0, 0, 0, 0, 0, 0, 0, 0, 0, 0, 0, 0, 0, 0, 0, 0, 0,\n",
              "       0, 0, 0, 0, 0, 0, 0, 0, 0, 0])"
            ]
          },
          "metadata": {},
          "execution_count": 37
        }
      ],
      "source": [
        "lrm_pred"
      ]
    },
    {
      "cell_type": "code",
      "execution_count": 38,
      "id": "c161526e",
      "metadata": {
        "execution": {
          "iopub.execute_input": "2024-02-27T19:46:51.426438Z",
          "iopub.status.busy": "2024-02-27T19:46:51.425987Z",
          "iopub.status.idle": "2024-02-27T19:46:51.434046Z",
          "shell.execute_reply": "2024-02-27T19:46:51.433147Z"
        },
        "papermill": {
          "duration": 0.184068,
          "end_time": "2024-02-27T19:46:51.436534",
          "exception": false,
          "start_time": "2024-02-27T19:46:51.252466",
          "status": "completed"
        },
        "tags": [],
        "colab": {
          "base_uri": "https://localhost:8080/",
          "height": 874
        },
        "id": "c161526e",
        "outputId": "1d807344-5e74-4083-d0cd-b995f1646de0"
      },
      "outputs": [
        {
          "output_type": "display_data",
          "data": {
            "text/plain": [
              "<Figure size 640x480 with 1 Axes>"
            ],
            "image/png": "[encoded data removed]"
          },
          "metadata": {}
        },
        {
          "output_type": "stream",
          "name": "stdout",
          "text": [
            "classification_report is \n",
            "              precision    recall  f1-score   support\n",
            "\n",
            "           0       0.59      1.00      0.74       355\n",
            "           1       0.00      0.00      0.00       249\n",
            "\n",
            "    accuracy                           0.59       604\n",
            "   macro avg       0.29      0.50      0.37       604\n",
            "weighted avg       0.35      0.59      0.44       604\n",
            "\n"
          ]
        },
        {
          "output_type": "stream",
          "name": "stderr",
          "text": [
            "/usr/local/lib/python3.10/dist-packages/sklearn/metrics/_classification.py:1344: UndefinedMetricWarning:\n",
            "\n",
            "Precision and F-score are ill-defined and being set to 0.0 in labels with no predicted samples. Use `zero_division` parameter to control this behavior.\n",
            "\n",
            "/usr/local/lib/python3.10/dist-packages/sklearn/metrics/_classification.py:1344: UndefinedMetricWarning:\n",
            "\n",
            "Precision and F-score are ill-defined and being set to 0.0 in labels with no predicted samples. Use `zero_division` parameter to control this behavior.\n",
            "\n",
            "/usr/local/lib/python3.10/dist-packages/sklearn/metrics/_classification.py:1344: UndefinedMetricWarning:\n",
            "\n",
            "Precision and F-score are ill-defined and being set to 0.0 in labels with no predicted samples. Use `zero_division` parameter to control this behavior.\n",
            "\n"
          ]
        }
      ],
      "source": [
        "# Model Evaluation\n",
        "  # 1. Confusion matrix creation\n",
        "con= confusion_matrix(y_test,lrm_pred) # Evaluation of Model Performance & Sensitivity and Specificity Analysis\n",
        "sns.heatmap(con, annot=True, fmt='d', cmap='Blues', cbar=False,\n",
        "\n",
        "            xticklabels=['Not Portable', 'Portable'],yticklabels=['Not Portable', 'Portable'],)\n",
        "plt.xlabel('Predicted Label')\n",
        "plt.ylabel('True Label')\n",
        "plt.title('Confusion Matrix')\n",
        "plt.show()\n",
        "  # 2. Printing the performance metric values\n",
        "print(\"classification_report is \")\n",
        "print(classification_report(y_test ,lrm_pred))"
      ]
    },
    {
      "cell_type": "markdown",
      "id": "122b22ff",
      "metadata": {
        "papermill": {
          "duration": 0.158112,
          "end_time": "2024-02-27T19:46:53.007615",
          "exception": false,
          "start_time": "2024-02-27T19:46:52.849503",
          "status": "completed"
        },
        "tags": [],
        "id": "122b22ff"
      },
      "source": [
        "### 2. SVM_MODEL"
      ]
    },
    {
      "cell_type": "code",
      "execution_count": 39,
      "id": "05481903",
      "metadata": {
        "execution": {
          "iopub.execute_input": "2024-02-27T19:46:53.312436Z",
          "iopub.status.busy": "2024-02-27T19:46:53.311722Z",
          "iopub.status.idle": "2024-02-27T19:46:53.317895Z",
          "shell.execute_reply": "2024-02-27T19:46:53.316731Z"
        },
        "papermill": {
          "duration": 0.158784,
          "end_time": "2024-02-27T19:46:53.320198",
          "exception": false,
          "start_time": "2024-02-27T19:46:53.161414",
          "status": "completed"
        },
        "tags": [],
        "id": "05481903"
      },
      "outputs": [],
      "source": [
        "from sklearn.svm import SVC\n",
        "from sklearn.svm import SVC ## call model\n"
      ]
    },
    {
      "cell_type": "code",
      "execution_count": 40,
      "id": "f799ec7b",
      "metadata": {
        "execution": {
          "iopub.execute_input": "2024-02-27T19:46:53.628889Z",
          "iopub.status.busy": "2024-02-27T19:46:53.628257Z",
          "iopub.status.idle": "2024-02-27T19:46:53.634465Z",
          "shell.execute_reply": "2024-02-27T19:46:53.633087Z"
        },
        "papermill": {
          "duration": 0.170111,
          "end_time": "2024-02-27T19:46:53.637911",
          "exception": false,
          "start_time": "2024-02-27T19:46:53.467800",
          "status": "completed"
        },
        "tags": [],
        "id": "f799ec7b"
      },
      "outputs": [],
      "source": [
        "# Model Creation\n",
        "svm_model =SVC()\n",
        "svm_model.fit(x_train, y_train)\n",
        "svm_pred = svm_model.predict(x_test)"
      ]
    },
    {
      "cell_type": "code",
      "execution_count": 41,
      "id": "7d0bba1e",
      "metadata": {
        "execution": {
          "iopub.execute_input": "2024-02-27T19:46:54.359866Z",
          "iopub.status.busy": "2024-02-27T19:46:54.359081Z",
          "iopub.status.idle": "2024-02-27T19:46:54.411358Z",
          "shell.execute_reply": "2024-02-27T19:46:54.410035Z"
        },
        "papermill": {
          "duration": 0.206617,
          "end_time": "2024-02-27T19:46:54.414125",
          "exception": false,
          "start_time": "2024-02-27T19:46:54.207508",
          "status": "completed"
        },
        "tags": [],
        "colab": {
          "base_uri": "https://localhost:8080/"
        },
        "id": "7d0bba1e",
        "outputId": "8c98afbe-0a26-4632-f05b-2a53bccb6654"
      },
      "outputs": [
        {
          "output_type": "execute_result",
          "data": {
            "text/plain": [
              "array([0, 0, 0, 0, 0, 0, 0, 0, 0, 0, 0, 0, 0, 0, 0, 0, 0, 0, 0, 0, 0, 0,\n",
              "       0, 0, 0, 0, 0, 0, 0, 0, 0, 0, 0, 0, 0, 0, 0, 0, 0, 0, 0, 0, 0, 0,\n",
              "       0, 0, 0, 0, 0, 0, 0, 0, 0, 0, 0, 0, 0, 0, 0, 0, 0, 0, 0, 0, 0, 0,\n",
              "       0, 0, 0, 0, 0, 0, 0, 0, 0, 0, 0, 0, 0, 0, 0, 0, 0, 0, 0, 0, 0, 0,\n",
              "       0, 0, 0, 0, 0, 0, 0, 0, 0, 0, 0, 0, 0, 0, 0, 0, 0, 0, 0, 0, 0, 0,\n",
              "       0, 0, 0, 0, 0, 0, 0, 0, 0, 0, 0, 0, 0, 0, 0, 0, 0, 0, 0, 0, 0, 0,\n",
              "       0, 0, 0, 0, 0, 0, 0, 0, 0, 0, 0, 0, 0, 0, 0, 0, 0, 0, 0, 0, 0, 0,\n",
              "       0, 0, 0, 0, 0, 0, 0, 0, 0, 0, 0, 0, 0, 0, 0, 0, 0, 0, 0, 0, 0, 0,\n",
              "       0, 0, 0, 0, 0, 0, 0, 0, 0, 0, 0, 0, 0, 0, 0, 0, 0, 0, 0, 0, 0, 0,\n",
              "       0, 0, 0, 0, 0, 0, 0, 0, 0, 0, 0, 0, 0, 0, 0, 0, 0, 0, 0, 0, 0, 0,\n",
              "       0, 0, 0, 0, 0, 0, 0, 0, 0, 0, 0, 0, 0, 0, 0, 0, 0, 0, 0, 0, 0, 0,\n",
              "       0, 0, 0, 0, 0, 0, 0, 0, 0, 0, 0, 0, 0, 0, 0, 0, 0, 0, 0, 0, 0, 0,\n",
              "       0, 0, 0, 0, 0, 0, 0, 0, 0, 0, 0, 0, 0, 0, 0, 0, 0, 0, 0, 0, 0, 0,\n",
              "       0, 0, 0, 0, 0, 0, 0, 0, 0, 0, 0, 0, 0, 0, 0, 0, 0, 0, 0, 0, 0, 0,\n",
              "       0, 0, 0, 0, 0, 0, 0, 0, 0, 0, 0, 0, 0, 0, 0, 0, 0, 0, 0, 0, 0, 0,\n",
              "       0, 0, 0, 0, 0, 0, 0, 0, 0, 0, 0, 0, 0, 0, 0, 0, 0, 0, 0, 0, 0, 0,\n",
              "       0, 0, 0, 0, 0, 0, 0, 0, 0, 0, 0, 0, 0, 0, 0, 0, 0, 0, 0, 0, 0, 0,\n",
              "       0, 0, 0, 0, 0, 0, 0, 0, 0, 0, 0, 0, 0, 0, 0, 0, 0, 0, 0, 0, 0, 0,\n",
              "       0, 0, 0, 0, 0, 0, 0, 0, 0, 0, 0, 0, 0, 0, 0, 0, 0, 0, 0, 0, 0, 0,\n",
              "       0, 0, 0, 0, 0, 0, 0, 0, 0, 0, 0, 0, 0, 0, 0, 0, 0, 0, 0, 0, 0, 0,\n",
              "       0, 0, 0, 0, 0, 0, 0, 0, 0, 0, 0, 0, 0, 0, 0, 0, 0, 0, 0, 0, 0, 0,\n",
              "       0, 0, 0, 0, 0, 0, 0, 0, 0, 0, 0, 0, 0, 0, 0, 0, 0, 0, 0, 0, 0, 0,\n",
              "       0, 0, 0, 0, 0, 0, 0, 0, 0, 0, 0, 0, 0, 0, 0, 0, 0, 0, 0, 0, 0, 0,\n",
              "       0, 0, 0, 0, 0, 0, 0, 0, 0, 0, 0, 0, 0, 0, 0, 0, 0, 0, 0, 0, 0, 0,\n",
              "       0, 0, 0, 0, 0, 0, 0, 0, 0, 0, 0, 0, 0, 0, 0, 0, 0, 0, 0, 0, 0, 0,\n",
              "       0, 0, 0, 0, 0, 0, 0, 0, 0, 0, 0, 0, 0, 0, 0, 0, 0, 0, 0, 0, 0, 0,\n",
              "       0, 0, 0, 0, 0, 0, 0, 0, 0, 0, 0, 0, 0, 0, 0, 0, 0, 0, 0, 0, 0, 0,\n",
              "       0, 0, 0, 0, 0, 0, 0, 0, 0, 0])"
            ]
          },
          "metadata": {},
          "execution_count": 41
        }
      ],
      "source": [
        "svm_pred"
      ]
    },
    {
      "cell_type": "code",
      "execution_count": 42,
      "id": "a0a6a77a",
      "metadata": {
        "execution": {
          "iopub.execute_input": "2024-02-27T19:46:54.711166Z",
          "iopub.status.busy": "2024-02-27T19:46:54.709776Z",
          "iopub.status.idle": "2024-02-27T19:46:54.727050Z",
          "shell.execute_reply": "2024-02-27T19:46:54.725317Z"
        },
        "papermill": {
          "duration": 0.165829,
          "end_time": "2024-02-27T19:46:54.729430",
          "exception": false,
          "start_time": "2024-02-27T19:46:54.563601",
          "status": "completed"
        },
        "tags": [],
        "colab": {
          "base_uri": "https://localhost:8080/",
          "height": 874
        },
        "id": "a0a6a77a",
        "outputId": "a4e35141-5fac-4a49-aa11-404852748af7"
      },
      "outputs": [
        {
          "output_type": "display_data",
          "data": {
            "text/plain": [
              "<Figure size 640x480 with 1 Axes>"
            ],
            "image/png": "[encoded data removed]"
          },
          "metadata": {}
        },
        {
          "output_type": "stream",
          "name": "stdout",
          "text": [
            "classification_report is \n",
            "              precision    recall  f1-score   support\n",
            "\n",
            "           0       0.59      1.00      0.74       355\n",
            "           1       0.00      0.00      0.00       249\n",
            "\n",
            "    accuracy                           0.59       604\n",
            "   macro avg       0.29      0.50      0.37       604\n",
            "weighted avg       0.35      0.59      0.44       604\n",
            "\n"
          ]
        },
        {
          "output_type": "stream",
          "name": "stderr",
          "text": [
            "/usr/local/lib/python3.10/dist-packages/sklearn/metrics/_classification.py:1344: UndefinedMetricWarning:\n",
            "\n",
            "Precision and F-score are ill-defined and being set to 0.0 in labels with no predicted samples. Use `zero_division` parameter to control this behavior.\n",
            "\n",
            "/usr/local/lib/python3.10/dist-packages/sklearn/metrics/_classification.py:1344: UndefinedMetricWarning:\n",
            "\n",
            "Precision and F-score are ill-defined and being set to 0.0 in labels with no predicted samples. Use `zero_division` parameter to control this behavior.\n",
            "\n",
            "/usr/local/lib/python3.10/dist-packages/sklearn/metrics/_classification.py:1344: UndefinedMetricWarning:\n",
            "\n",
            "Precision and F-score are ill-defined and being set to 0.0 in labels with no predicted samples. Use `zero_division` parameter to control this behavior.\n",
            "\n"
          ]
        }
      ],
      "source": [
        "# Model Evaluation\n",
        "  # 1. Confusion matrix creation\n",
        "con= confusion_matrix(y_test,svm_pred) # Evaluation of Model Performance & Sensitivity and Specificity Analysis\n",
        "sns.heatmap(con, annot=True, fmt='d', cmap='Blues', cbar=False,\n",
        "\n",
        "            xticklabels=['Not Portable', 'Portable'],yticklabels=['Not Portable', 'Portable'],)\n",
        "plt.xlabel('Predicted Label')\n",
        "plt.ylabel('True Label')\n",
        "plt.title('Confusion Matrix')\n",
        "plt.show()\n",
        "  # 2. Printing the performance metric values\n",
        "print(\"classification_report is \")\n",
        "print(classification_report(y_test ,svm_pred))"
      ]
    },
    {
      "cell_type": "markdown",
      "id": "15d15887",
      "metadata": {
        "papermill": {
          "duration": 0.144549,
          "end_time": "2024-02-27T19:46:55.019289",
          "exception": false,
          "start_time": "2024-02-27T19:46:54.874740",
          "status": "completed"
        },
        "tags": [],
        "id": "15d15887"
      },
      "source": [
        "### 3. DECISION_TREE_MODEL"
      ]
    },
    {
      "cell_type": "code",
      "execution_count": 33,
      "id": "0f73868e",
      "metadata": {
        "execution": {
          "iopub.execute_input": "2024-02-27T19:46:55.309222Z",
          "iopub.status.busy": "2024-02-27T19:46:55.308472Z",
          "iopub.status.idle": "2024-02-27T19:46:55.426885Z",
          "shell.execute_reply": "2024-02-27T19:46:55.425346Z"
        },
        "papermill": {
          "duration": 0.26642,
          "end_time": "2024-02-27T19:46:55.429806",
          "exception": false,
          "start_time": "2024-02-27T19:46:55.163386",
          "status": "completed"
        },
        "tags": [],
        "id": "0f73868e"
      },
      "outputs": [],
      "source": [
        "from sklearn.tree import DecisionTreeClassifier\n",
        "\n",
        "# Model Creation\n",
        "dt_model = DecisionTreeClassifier()\n",
        "params = {\n",
        "    'criterion' : ['gini', 'entropy'],\n",
        "    'max_depth' : [5,10,20,25],\n",
        "    'min_samples_leaf' : [10,20,30,40]\n",
        "}\n",
        "grid_search = GridSearchCV(dt_model, params, cv = 5 )\n",
        "grid_search.fit(x_train, y_train)\n",
        "dt_model = DecisionTreeClassifier(criterion = 'gini', max_depth = 5, min_samples_leaf = 30)\n",
        "dt_model.fit(x_train, y_train)\n",
        "dt_pred = dt_model.predict(x_test)"
      ]
    },
    {
      "cell_type": "code",
      "execution_count": 34,
      "id": "09730bc6",
      "metadata": {
        "execution": {
          "iopub.execute_input": "2024-02-27T19:47:00.945294Z",
          "iopub.status.busy": "2024-02-27T19:47:00.944876Z",
          "iopub.status.idle": "2024-02-27T19:47:00.960884Z",
          "shell.execute_reply": "2024-02-27T19:47:00.959866Z"
        },
        "papermill": {
          "duration": 0.166241,
          "end_time": "2024-02-27T19:47:00.963784",
          "exception": false,
          "start_time": "2024-02-27T19:47:00.797543",
          "status": "completed"
        },
        "tags": [],
        "id": "09730bc6",
        "outputId": "40668410-010d-4251-8a06-f3b0e98a70f3",
        "colab": {
          "base_uri": "https://localhost:8080/",
          "height": 646
        }
      },
      "outputs": [
        {
          "output_type": "display_data",
          "data": {
            "text/plain": [
              "<Figure size 640x480 with 1 Axes>"
            ],
            "image/png": "[encoded data removed]"
          },
          "metadata": {}
        },
        {
          "output_type": "stream",
          "name": "stdout",
          "text": [
            "Testing Classification Report of DecisionTreeClassifier : \n",
            "              precision    recall  f1-score   support\n",
            "\n",
            "           0       0.64      0.87      0.74       355\n",
            "           1       0.63      0.31      0.41       249\n",
            "\n",
            "    accuracy                           0.64       604\n",
            "   macro avg       0.63      0.59      0.58       604\n",
            "weighted avg       0.64      0.64      0.60       604\n",
            "\n"
          ]
        }
      ],
      "source": [
        "# Model Evaluation\n",
        "  # 1. Creation of Confusion Matrix\n",
        "con= confusion_matrix(y_test,dt_pred) # Evaluation of Model Performance & Sensitivity and Specificity Analysis\n",
        "sns.heatmap(con, annot=True, fmt='d', cmap='Blues', cbar=False,\n",
        "\n",
        "            xticklabels=['Not Portable', 'Portable'],yticklabels=['Not Portable', 'Portable'],)\n",
        "plt.xlabel('Predicted Label')\n",
        "plt.ylabel('True Label')\n",
        "plt.title('Confusion Matrix')\n",
        "plt.show()\n",
        "  # 2. printing the performance metric values\n",
        "print(\"Testing Classification Report of DecisionTreeClassifier : \")\n",
        "print(classification_report(y_test, dt_pred))"
      ]
    },
    {
      "cell_type": "markdown",
      "id": "d364725d",
      "metadata": {
        "papermill": {
          "duration": 0.148177,
          "end_time": "2024-02-27T19:47:03.541699",
          "exception": false,
          "start_time": "2024-02-27T19:47:03.393522",
          "status": "completed"
        },
        "tags": [],
        "id": "d364725d"
      },
      "source": [
        "### COMPARISION B/W ALL MODELS\n",
        "\n",
        "### CHOOSING THE BEST MODEL\n",
        "\n",
        "As now we have seen all the 3 model's perfomance now we analyze each model's performance and choose the one which gives best performance\n",
        "\n"
      ]
    },
    {
      "cell_type": "code",
      "execution_count": 46,
      "id": "b8ecdb18",
      "metadata": {
        "execution": {
          "iopub.execute_input": "2024-02-27T19:47:03.852768Z",
          "iopub.status.busy": "2024-02-27T19:47:03.852262Z",
          "iopub.status.idle": "2024-02-27T19:47:03.867139Z",
          "shell.execute_reply": "2024-02-27T19:47:03.866099Z"
        },
        "papermill": {
          "duration": 0.165498,
          "end_time": "2024-02-27T19:47:03.869422",
          "exception": false,
          "start_time": "2024-02-27T19:47:03.703924",
          "status": "completed"
        },
        "tags": [],
        "id": "b8ecdb18",
        "outputId": "e99f2b9c-6cce-46f7-8511-2166778970a4",
        "colab": {
          "base_uri": "https://localhost:8080/",
          "height": 601
        }
      },
      "outputs": [
        {
          "output_type": "stream",
          "name": "stdout",
          "text": [
            "          Logistic Regression  Decision Tree  Support Vector\n",
            "Accuracy                 0.59           0.64            0.59\n"
          ]
        },
        {
          "output_type": "execute_result",
          "data": {
            "text/plain": [
              "<Axes: >"
            ]
          },
          "metadata": {},
          "execution_count": 46
        },
        {
          "output_type": "display_data",
          "data": {
            "text/plain": [
              "<Figure size 640x480 with 1 Axes>"
            ],
            "image/png": "[encoded data removed]"
          },
          "metadata": {}
        }
      ],
      "source": [
        "# Just printing the summary results\n",
        "result=pd.DataFrame({\"ALGORITHM\":[\"LogisticRegression\",\"SVC\",\"DecisionTreeClassifier\"],\n",
        "\n",
        "          \"accuracy\":[ 0.59,0.59,0.64,] })\n",
        "result.style.background_gradient()\n",
        "\n",
        "# Bar Graph results\n",
        "model_scores = {'Logistic Regression': 0.59,\n",
        "'Decision Tree': 0.64,\n",
        "'Support Vector': 0.59}\n",
        "model_compare=pd.DataFrame(model_scores,index=['Accuracy'])\n",
        "print(model_compare)\n",
        "model_compare.T.plot(kind='bar')"
      ]
    },
    {
      "cell_type": "markdown",
      "source": [
        "#### BY THE ABOVE ANALYSIS THE BEST MODEL TO CHOOSE FOR THIS DATASET IS DECISION TREE CLASSIFICATION\n",
        "\n",
        "AUTHORS :  \n",
        "\n",
        "\n",
        "1.   TANISHQ.S\n",
        "2.   SYED ATEEBUDIN AHMED\n",
        "3.   VINAY\n",
        "\n",
        "\n"
      ],
      "metadata": {
        "id": "tgxrL9_GxXgB"
      },
      "id": "tgxrL9_GxXgB"
    }
  ],
  "metadata": {
    "kaggle": {
      "accelerator": "none",
      "dataSources": [
        {
          "datasetId": 1292407,
          "sourceId": 2157486,
          "sourceType": "datasetVersion"
        }
      ],
      "dockerImageVersionId": 30646,
      "isGpuEnabled": false,
      "isInternetEnabled": true,
      "language": "python",
      "sourceType": "notebook"
    },
    "kernelspec": {
      "display_name": "Python 3",
      "language": "python",
      "name": "python3"
    },
    "language_info": {
      "codemirror_mode": {
        "name": "ipython",
        "version": 3
      },
      "file_extension": ".py",
      "mimetype": "text/x-python",
      "name": "python",
      "nbconvert_exporter": "python",
      "pygments_lexer": "ipython3",
      "version": "3.10.13"
    },
    "papermill": {
      "default_parameters": {},
      "duration": 110.820368,
      "end_time": "2024-02-27T19:47:06.038627",
      "environment_variables": {},
      "exception": null,
      "input_path": "__notebook__.ipynb",
      "output_path": "__notebook__.ipynb",
      "parameters": {},
      "start_time": "2024-02-27T19:45:15.218259",
      "version": "2.5.0"
    },
    "colab": {
      "provenance": []
    }
  },
  "nbformat": 4,
  "nbformat_minor": 5
}